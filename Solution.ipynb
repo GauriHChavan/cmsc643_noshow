{
 "cells": [
  {
   "cell_type": "markdown",
   "metadata": {},
   "source": [
    "# Part I: Data Preparation\n",
    "\n",
    "## Read data from csv"
   ]
  },
  {
   "cell_type": "markdown",
   "metadata": {},
   "source": [
    "#### read data from csv (local)"
   ]
  },
  {
   "cell_type": "code",
   "execution_count": 1,
   "metadata": {},
   "outputs": [],
   "source": [
    "DATA_DIR = '/Users/Emma/Box Sync/Maryland/Courses/CMSC643 Machine Learning and Data Mining/Code/cmsc643_noshow/data'\n",
    "CSV_FILE = DATA_DIR + '/KaggleV2-May-2016'\n",
    "\n",
    "import pandas as pd\n",
    "\n",
    "# read data using read_csv function\n",
    "appt_df = pd.read_csv(str(CSV_FILE) + '.csv', dtype = {'PatientId': 'object', 'AppointmentID': 'object'})"
   ]
  },
  {
   "cell_type": "markdown",
   "metadata": {},
   "source": [
    "## Data cleanup\n",
    "\n",
    "- Cleanup column names\n",
    "- Remove records with erroneous entries (e.g., negative ages). Look at what people have done in Kaggle"
   ]
  },
  {
   "cell_type": "markdown",
   "metadata": {},
   "source": [
    "#### clean up column names (what do you mean by \"clean up column names\"?)"
   ]
  },
  {
   "cell_type": "code",
   "execution_count": 2,
   "metadata": {},
   "outputs": [
    {
     "data": {
      "text/html": [
       "<div>\n",
       "<style scoped>\n",
       "    .dataframe tbody tr th:only-of-type {\n",
       "        vertical-align: middle;\n",
       "    }\n",
       "\n",
       "    .dataframe tbody tr th {\n",
       "        vertical-align: top;\n",
       "    }\n",
       "\n",
       "    .dataframe thead th {\n",
       "        text-align: right;\n",
       "    }\n",
       "</style>\n",
       "<table border=\"1\" class=\"dataframe\">\n",
       "  <thead>\n",
       "    <tr style=\"text-align: right;\">\n",
       "      <th></th>\n",
       "      <th>PatientId</th>\n",
       "      <th>AppointmentID</th>\n",
       "      <th>Gender</th>\n",
       "      <th>ScheduledDay</th>\n",
       "      <th>AppointmentDay</th>\n",
       "      <th>Age</th>\n",
       "      <th>Neighbourhood</th>\n",
       "      <th>Scholarship</th>\n",
       "      <th>Hipertension</th>\n",
       "      <th>Diabetes</th>\n",
       "      <th>Alcoholism</th>\n",
       "      <th>Handcap</th>\n",
       "      <th>SMS_received</th>\n",
       "      <th>No-show</th>\n",
       "    </tr>\n",
       "  </thead>\n",
       "  <tbody>\n",
       "    <tr>\n",
       "      <th>0</th>\n",
       "      <td>29872499824296</td>\n",
       "      <td>5642903</td>\n",
       "      <td>F</td>\n",
       "      <td>2016-04-29T18:38:08Z</td>\n",
       "      <td>2016-04-29T00:00:00Z</td>\n",
       "      <td>62</td>\n",
       "      <td>JARDIM DA PENHA</td>\n",
       "      <td>0</td>\n",
       "      <td>1</td>\n",
       "      <td>0</td>\n",
       "      <td>0</td>\n",
       "      <td>0</td>\n",
       "      <td>0</td>\n",
       "      <td>No</td>\n",
       "    </tr>\n",
       "    <tr>\n",
       "      <th>1</th>\n",
       "      <td>558997776694438</td>\n",
       "      <td>5642503</td>\n",
       "      <td>M</td>\n",
       "      <td>2016-04-29T16:08:27Z</td>\n",
       "      <td>2016-04-29T00:00:00Z</td>\n",
       "      <td>56</td>\n",
       "      <td>JARDIM DA PENHA</td>\n",
       "      <td>0</td>\n",
       "      <td>0</td>\n",
       "      <td>0</td>\n",
       "      <td>0</td>\n",
       "      <td>0</td>\n",
       "      <td>0</td>\n",
       "      <td>No</td>\n",
       "    </tr>\n",
       "    <tr>\n",
       "      <th>2</th>\n",
       "      <td>4262962299951</td>\n",
       "      <td>5642549</td>\n",
       "      <td>F</td>\n",
       "      <td>2016-04-29T16:19:04Z</td>\n",
       "      <td>2016-04-29T00:00:00Z</td>\n",
       "      <td>62</td>\n",
       "      <td>MATA DA PRAIA</td>\n",
       "      <td>0</td>\n",
       "      <td>0</td>\n",
       "      <td>0</td>\n",
       "      <td>0</td>\n",
       "      <td>0</td>\n",
       "      <td>0</td>\n",
       "      <td>No</td>\n",
       "    </tr>\n",
       "    <tr>\n",
       "      <th>3</th>\n",
       "      <td>867951213174</td>\n",
       "      <td>5642828</td>\n",
       "      <td>F</td>\n",
       "      <td>2016-04-29T17:29:31Z</td>\n",
       "      <td>2016-04-29T00:00:00Z</td>\n",
       "      <td>8</td>\n",
       "      <td>PONTAL DE CAMBURI</td>\n",
       "      <td>0</td>\n",
       "      <td>0</td>\n",
       "      <td>0</td>\n",
       "      <td>0</td>\n",
       "      <td>0</td>\n",
       "      <td>0</td>\n",
       "      <td>No</td>\n",
       "    </tr>\n",
       "    <tr>\n",
       "      <th>4</th>\n",
       "      <td>8841186448183</td>\n",
       "      <td>5642494</td>\n",
       "      <td>F</td>\n",
       "      <td>2016-04-29T16:07:23Z</td>\n",
       "      <td>2016-04-29T00:00:00Z</td>\n",
       "      <td>56</td>\n",
       "      <td>JARDIM DA PENHA</td>\n",
       "      <td>0</td>\n",
       "      <td>1</td>\n",
       "      <td>1</td>\n",
       "      <td>0</td>\n",
       "      <td>0</td>\n",
       "      <td>0</td>\n",
       "      <td>No</td>\n",
       "    </tr>\n",
       "  </tbody>\n",
       "</table>\n",
       "</div>"
      ],
      "text/plain": [
       "         PatientId AppointmentID Gender          ScheduledDay  \\\n",
       "0   29872499824296       5642903      F  2016-04-29T18:38:08Z   \n",
       "1  558997776694438       5642503      M  2016-04-29T16:08:27Z   \n",
       "2    4262962299951       5642549      F  2016-04-29T16:19:04Z   \n",
       "3     867951213174       5642828      F  2016-04-29T17:29:31Z   \n",
       "4    8841186448183       5642494      F  2016-04-29T16:07:23Z   \n",
       "\n",
       "         AppointmentDay  Age      Neighbourhood  Scholarship  Hipertension  \\\n",
       "0  2016-04-29T00:00:00Z   62    JARDIM DA PENHA            0             1   \n",
       "1  2016-04-29T00:00:00Z   56    JARDIM DA PENHA            0             0   \n",
       "2  2016-04-29T00:00:00Z   62      MATA DA PRAIA            0             0   \n",
       "3  2016-04-29T00:00:00Z    8  PONTAL DE CAMBURI            0             0   \n",
       "4  2016-04-29T00:00:00Z   56    JARDIM DA PENHA            0             1   \n",
       "\n",
       "   Diabetes  Alcoholism  Handcap  SMS_received No-show  \n",
       "0         0           0        0             0      No  \n",
       "1         0           0        0             0      No  \n",
       "2         0           0        0             0      No  \n",
       "3         0           0        0             0      No  \n",
       "4         1           0        0             0      No  "
      ]
     },
     "execution_count": 2,
     "metadata": {},
     "output_type": "execute_result"
    }
   ],
   "source": [
    "# highly recommend that you rename dataset e.g., if you used appt_df = pd.read_csv(...) above first thing to do here is clean_appt_df = appt_df\n",
    "\n",
    "clean_appt_df = appt_df\n",
    "clean_appt_df.head()"
   ]
  },
  {
   "cell_type": "code",
   "execution_count": 3,
   "metadata": {},
   "outputs": [
    {
     "name": "stdout",
     "output_type": "stream",
     "text": [
      "<class 'pandas.core.frame.DataFrame'>\n",
      "RangeIndex: 110527 entries, 0 to 110526\n",
      "Data columns (total 14 columns):\n",
      "PatientId         110527 non-null object\n",
      "AppointmentID     110527 non-null object\n",
      "Gender            110527 non-null object\n",
      "ScheduledDay      110527 non-null object\n",
      "AppointmentDay    110527 non-null object\n",
      "Age               110527 non-null int64\n",
      "Neighbourhood     110527 non-null object\n",
      "Scholarship       110527 non-null int64\n",
      "Hipertension      110527 non-null int64\n",
      "Diabetes          110527 non-null int64\n",
      "Alcoholism        110527 non-null int64\n",
      "Handcap           110527 non-null int64\n",
      "SMS_received      110527 non-null int64\n",
      "No-show           110527 non-null object\n",
      "dtypes: int64(7), object(7)\n",
      "memory usage: 11.8+ MB\n"
     ]
    }
   ],
   "source": [
    "clean_appt_df.info()"
   ]
  },
  {
   "cell_type": "markdown",
   "metadata": {},
   "source": [
    "#### remove records with erroneous entries"
   ]
  },
  {
   "cell_type": "code",
   "execution_count": 4,
   "metadata": {},
   "outputs": [],
   "source": [
    "# remove entries with Age < 0\n",
    "clean_appt_df = clean_appt_df[clean_appt_df['Age'] > 0]"
   ]
  },
  {
   "cell_type": "code",
   "execution_count": 5,
   "metadata": {},
   "outputs": [],
   "source": [
    "# remove entries with missing values\n",
    "clean_appt_df = clean_appt_df.dropna(how = 'any')"
   ]
  },
  {
   "cell_type": "code",
   "execution_count": 6,
   "metadata": {},
   "outputs": [],
   "source": [
    "# remove entries with na values\n",
    "clean_appt_df = clean_appt_df.dropna(axis = 0)"
   ]
  },
  {
   "cell_type": "code",
   "execution_count": 7,
   "metadata": {},
   "outputs": [
    {
     "data": {
      "text/plain": [
       "F    70118\n",
       "M    36869\n",
       "Name: Gender, dtype: int64"
      ]
     },
     "execution_count": 7,
     "metadata": {},
     "output_type": "execute_result"
    }
   ],
   "source": [
    "# count gender values\n",
    "clean_appt_df.Gender.value_counts()"
   ]
  },
  {
   "cell_type": "code",
   "execution_count": 8,
   "metadata": {},
   "outputs": [],
   "source": [
    "import numpy as np\n",
    "\n",
    "# reassign values to gender: Male 0 Female 1\n",
    "clean_appt_df['Gender'] = np.where(clean_appt_df['Gender'] == \"M\", 0, 1)"
   ]
  },
  {
   "cell_type": "code",
   "execution_count": 9,
   "metadata": {},
   "outputs": [
    {
     "data": {
      "text/plain": [
       "1    70118\n",
       "0    36869\n",
       "Name: Gender, dtype: int64"
      ]
     },
     "execution_count": 9,
     "metadata": {},
     "output_type": "execute_result"
    }
   ],
   "source": [
    "# count gender values\n",
    "clean_appt_df.Gender.value_counts()"
   ]
  },
  {
   "cell_type": "code",
   "execution_count": 10,
   "metadata": {},
   "outputs": [
    {
     "data": {
      "text/plain": [
       "No     85307\n",
       "Yes    21680\n",
       "Name: No-show, dtype: int64"
      ]
     },
     "execution_count": 10,
     "metadata": {},
     "output_type": "execute_result"
    }
   ],
   "source": [
    "# count No-show values\n",
    "clean_appt_df['No-show'].value_counts()"
   ]
  },
  {
   "cell_type": "code",
   "execution_count": 11,
   "metadata": {},
   "outputs": [],
   "source": [
    "# reassgin values to no-show: show 1, noshow -1\n",
    "clean_appt_df['No-show'] = np.where(clean_appt_df['No-show'] == 'No', -1, 1)"
   ]
  },
  {
   "cell_type": "code",
   "execution_count": 12,
   "metadata": {},
   "outputs": [
    {
     "data": {
      "text/plain": [
       "-1    85307\n",
       " 1    21680\n",
       "Name: No-show, dtype: int64"
      ]
     },
     "execution_count": 12,
     "metadata": {},
     "output_type": "execute_result"
    }
   ],
   "source": [
    "# count No-show values\n",
    "clean_appt_df['No-show'].value_counts()"
   ]
  },
  {
   "cell_type": "code",
   "execution_count": 13,
   "metadata": {},
   "outputs": [
    {
     "data": {
      "text/plain": [
       "0    104747\n",
       "1      2041\n",
       "2       183\n",
       "3        13\n",
       "4         3\n",
       "Name: Handcap, dtype: int64"
      ]
     },
     "execution_count": 13,
     "metadata": {},
     "output_type": "execute_result"
    }
   ],
   "source": [
    "# count Handcap values\n",
    "clean_appt_df.Handcap.value_counts()"
   ]
  },
  {
   "cell_type": "code",
   "execution_count": 14,
   "metadata": {},
   "outputs": [],
   "source": [
    "# remove entries with Handcap value >1 as it should be binary\n",
    "clean_appt_df = clean_appt_df[clean_appt_df['Handcap'] <= 1]"
   ]
  },
  {
   "cell_type": "code",
   "execution_count": 15,
   "metadata": {},
   "outputs": [
    {
     "data": {
      "text/plain": [
       "0    104747\n",
       "1      2041\n",
       "Name: Handcap, dtype: int64"
      ]
     },
     "execution_count": 15,
     "metadata": {},
     "output_type": "execute_result"
    }
   ],
   "source": [
    "# count handcap value\n",
    "clean_appt_df.Handcap.value_counts()"
   ]
  },
  {
   "cell_type": "code",
   "execution_count": 16,
   "metadata": {},
   "outputs": [
    {
     "data": {
      "text/html": [
       "<div>\n",
       "<style scoped>\n",
       "    .dataframe tbody tr th:only-of-type {\n",
       "        vertical-align: middle;\n",
       "    }\n",
       "\n",
       "    .dataframe tbody tr th {\n",
       "        vertical-align: top;\n",
       "    }\n",
       "\n",
       "    .dataframe thead th {\n",
       "        text-align: right;\n",
       "    }\n",
       "</style>\n",
       "<table border=\"1\" class=\"dataframe\">\n",
       "  <thead>\n",
       "    <tr style=\"text-align: right;\">\n",
       "      <th></th>\n",
       "      <th>PatientId</th>\n",
       "      <th>AppointmentID</th>\n",
       "      <th>Gender</th>\n",
       "      <th>ScheduledDay</th>\n",
       "      <th>AppointmentDay</th>\n",
       "      <th>Age</th>\n",
       "      <th>Neighbourhood</th>\n",
       "      <th>Scholarship</th>\n",
       "      <th>Hipertension</th>\n",
       "      <th>Diabetes</th>\n",
       "      <th>Alcoholism</th>\n",
       "      <th>Handcap</th>\n",
       "      <th>SMS_received</th>\n",
       "      <th>No-show</th>\n",
       "    </tr>\n",
       "  </thead>\n",
       "  <tbody>\n",
       "    <tr>\n",
       "      <th>0</th>\n",
       "      <td>29872499824296</td>\n",
       "      <td>5642903</td>\n",
       "      <td>1</td>\n",
       "      <td>2016-04-29T18:38:08Z</td>\n",
       "      <td>2016-04-29T00:00:00Z</td>\n",
       "      <td>62</td>\n",
       "      <td>JARDIM DA PENHA</td>\n",
       "      <td>0</td>\n",
       "      <td>1</td>\n",
       "      <td>0</td>\n",
       "      <td>0</td>\n",
       "      <td>0</td>\n",
       "      <td>0</td>\n",
       "      <td>-1</td>\n",
       "    </tr>\n",
       "    <tr>\n",
       "      <th>1</th>\n",
       "      <td>558997776694438</td>\n",
       "      <td>5642503</td>\n",
       "      <td>0</td>\n",
       "      <td>2016-04-29T16:08:27Z</td>\n",
       "      <td>2016-04-29T00:00:00Z</td>\n",
       "      <td>56</td>\n",
       "      <td>JARDIM DA PENHA</td>\n",
       "      <td>0</td>\n",
       "      <td>0</td>\n",
       "      <td>0</td>\n",
       "      <td>0</td>\n",
       "      <td>0</td>\n",
       "      <td>0</td>\n",
       "      <td>-1</td>\n",
       "    </tr>\n",
       "    <tr>\n",
       "      <th>2</th>\n",
       "      <td>4262962299951</td>\n",
       "      <td>5642549</td>\n",
       "      <td>1</td>\n",
       "      <td>2016-04-29T16:19:04Z</td>\n",
       "      <td>2016-04-29T00:00:00Z</td>\n",
       "      <td>62</td>\n",
       "      <td>MATA DA PRAIA</td>\n",
       "      <td>0</td>\n",
       "      <td>0</td>\n",
       "      <td>0</td>\n",
       "      <td>0</td>\n",
       "      <td>0</td>\n",
       "      <td>0</td>\n",
       "      <td>-1</td>\n",
       "    </tr>\n",
       "    <tr>\n",
       "      <th>3</th>\n",
       "      <td>867951213174</td>\n",
       "      <td>5642828</td>\n",
       "      <td>1</td>\n",
       "      <td>2016-04-29T17:29:31Z</td>\n",
       "      <td>2016-04-29T00:00:00Z</td>\n",
       "      <td>8</td>\n",
       "      <td>PONTAL DE CAMBURI</td>\n",
       "      <td>0</td>\n",
       "      <td>0</td>\n",
       "      <td>0</td>\n",
       "      <td>0</td>\n",
       "      <td>0</td>\n",
       "      <td>0</td>\n",
       "      <td>-1</td>\n",
       "    </tr>\n",
       "    <tr>\n",
       "      <th>4</th>\n",
       "      <td>8841186448183</td>\n",
       "      <td>5642494</td>\n",
       "      <td>1</td>\n",
       "      <td>2016-04-29T16:07:23Z</td>\n",
       "      <td>2016-04-29T00:00:00Z</td>\n",
       "      <td>56</td>\n",
       "      <td>JARDIM DA PENHA</td>\n",
       "      <td>0</td>\n",
       "      <td>1</td>\n",
       "      <td>1</td>\n",
       "      <td>0</td>\n",
       "      <td>0</td>\n",
       "      <td>0</td>\n",
       "      <td>-1</td>\n",
       "    </tr>\n",
       "  </tbody>\n",
       "</table>\n",
       "</div>"
      ],
      "text/plain": [
       "         PatientId AppointmentID  Gender          ScheduledDay  \\\n",
       "0   29872499824296       5642903       1  2016-04-29T18:38:08Z   \n",
       "1  558997776694438       5642503       0  2016-04-29T16:08:27Z   \n",
       "2    4262962299951       5642549       1  2016-04-29T16:19:04Z   \n",
       "3     867951213174       5642828       1  2016-04-29T17:29:31Z   \n",
       "4    8841186448183       5642494       1  2016-04-29T16:07:23Z   \n",
       "\n",
       "         AppointmentDay  Age      Neighbourhood  Scholarship  Hipertension  \\\n",
       "0  2016-04-29T00:00:00Z   62    JARDIM DA PENHA            0             1   \n",
       "1  2016-04-29T00:00:00Z   56    JARDIM DA PENHA            0             0   \n",
       "2  2016-04-29T00:00:00Z   62      MATA DA PRAIA            0             0   \n",
       "3  2016-04-29T00:00:00Z    8  PONTAL DE CAMBURI            0             0   \n",
       "4  2016-04-29T00:00:00Z   56    JARDIM DA PENHA            0             1   \n",
       "\n",
       "   Diabetes  Alcoholism  Handcap  SMS_received  No-show  \n",
       "0         0           0        0             0       -1  \n",
       "1         0           0        0             0       -1  \n",
       "2         0           0        0             0       -1  \n",
       "3         0           0        0             0       -1  \n",
       "4         1           0        0             0       -1  "
      ]
     },
     "execution_count": 16,
     "metadata": {},
     "output_type": "execute_result"
    }
   ],
   "source": [
    "# take a look at the cleansed data set\n",
    "clean_appt_df.head()"
   ]
  },
  {
   "cell_type": "code",
   "execution_count": 17,
   "metadata": {},
   "outputs": [],
   "source": [
    "# change into categorical variable\n",
    "for col in ['Gender', 'Scholarship', 'Hipertension', 'Diabetes', 'Alcoholism', 'Handcap', 'SMS_received', 'No-show']:\n",
    "    clean_appt_df[col] = clean_appt_df[col].astype('category')"
   ]
  },
  {
   "cell_type": "code",
   "execution_count": 18,
   "metadata": {},
   "outputs": [
    {
     "name": "stdout",
     "output_type": "stream",
     "text": [
      "<class 'pandas.core.frame.DataFrame'>\n",
      "Int64Index: 106788 entries, 0 to 110526\n",
      "Data columns (total 14 columns):\n",
      "PatientId         106788 non-null object\n",
      "AppointmentID     106788 non-null object\n",
      "Gender            106788 non-null category\n",
      "ScheduledDay      106788 non-null object\n",
      "AppointmentDay    106788 non-null object\n",
      "Age               106788 non-null int64\n",
      "Neighbourhood     106788 non-null object\n",
      "Scholarship       106788 non-null category\n",
      "Hipertension      106788 non-null category\n",
      "Diabetes          106788 non-null category\n",
      "Alcoholism        106788 non-null category\n",
      "Handcap           106788 non-null category\n",
      "SMS_received      106788 non-null category\n",
      "No-show           106788 non-null category\n",
      "dtypes: category(8), int64(1), object(5)\n",
      "memory usage: 6.5+ MB\n"
     ]
    }
   ],
   "source": [
    "clean_appt_df.info()"
   ]
  },
  {
   "cell_type": "code",
   "execution_count": 19,
   "metadata": {},
   "outputs": [],
   "source": [
    "# convert time to string\n",
    "clean_appt_df['ScheduledDay'] = clean_appt_df['ScheduledDay'].astype('str').map(lambda x: x.rstrip('Z').replace('T', ' '))\n",
    "clean_appt_df['AppointmentDay'] = clean_appt_df['AppointmentDay'].astype('str').map(lambda x: x.rstrip('Z').replace('T', ' '))"
   ]
  },
  {
   "cell_type": "code",
   "execution_count": 20,
   "metadata": {},
   "outputs": [],
   "source": [
    "# take time interval\n",
    "clean_appt_df['ScheduledDay'] = pd.to_datetime(clean_appt_df['ScheduledDay'], format='%Y%m%d %H:%M:%S',  errors='raise')\n",
    "clean_appt_df['AppointmentDay'] = pd.to_datetime(clean_appt_df['AppointmentDay'], format='%Y%m%d %H:%M:%S',  errors='raise')"
   ]
  },
  {
   "cell_type": "code",
   "execution_count": 21,
   "metadata": {},
   "outputs": [],
   "source": [
    "import datetime as dt\n",
    "\n",
    "# calculate time difference of AppointmentDay and ScheduledDay in seconds \n",
    "clean_appt_df['Tdelta'] = clean_appt_df['AppointmentDay'] - clean_appt_df['ScheduledDay']\n",
    "clean_appt_df['Seconds'] = clean_appt_df['Tdelta'].dt.total_seconds()"
   ]
  },
  {
   "cell_type": "code",
   "execution_count": 22,
   "metadata": {},
   "outputs": [],
   "source": [
    "# remove entries with negative time difference\n",
    "clean_appt_df = clean_appt_df[clean_appt_df['Seconds'] >= 0]"
   ]
  },
  {
   "cell_type": "code",
   "execution_count": 23,
   "metadata": {},
   "outputs": [],
   "source": [
    "# remove ids\n",
    "clean_appt_df = clean_appt_df[['Gender', 'Age', 'Scholarship', 'Hipertension', 'Diabetes', 'Alcoholism', 'Handcap', 'SMS_received', 'No-show', 'Seconds']]"
   ]
  },
  {
   "cell_type": "code",
   "execution_count": 24,
   "metadata": {},
   "outputs": [
    {
     "data": {
      "text/html": [
       "<div>\n",
       "<style scoped>\n",
       "    .dataframe tbody tr th:only-of-type {\n",
       "        vertical-align: middle;\n",
       "    }\n",
       "\n",
       "    .dataframe tbody tr th {\n",
       "        vertical-align: top;\n",
       "    }\n",
       "\n",
       "    .dataframe thead th {\n",
       "        text-align: right;\n",
       "    }\n",
       "</style>\n",
       "<table border=\"1\" class=\"dataframe\">\n",
       "  <thead>\n",
       "    <tr style=\"text-align: right;\">\n",
       "      <th></th>\n",
       "      <th>Gender</th>\n",
       "      <th>Age</th>\n",
       "      <th>Scholarship</th>\n",
       "      <th>Hipertension</th>\n",
       "      <th>Diabetes</th>\n",
       "      <th>Alcoholism</th>\n",
       "      <th>Handcap</th>\n",
       "      <th>SMS_received</th>\n",
       "      <th>No-show</th>\n",
       "      <th>Seconds</th>\n",
       "    </tr>\n",
       "  </thead>\n",
       "  <tbody>\n",
       "    <tr>\n",
       "      <th>5</th>\n",
       "      <td>1</td>\n",
       "      <td>76</td>\n",
       "      <td>0</td>\n",
       "      <td>1</td>\n",
       "      <td>0</td>\n",
       "      <td>0</td>\n",
       "      <td>0</td>\n",
       "      <td>0</td>\n",
       "      <td>-1</td>\n",
       "      <td>141789.0</td>\n",
       "    </tr>\n",
       "    <tr>\n",
       "      <th>6</th>\n",
       "      <td>1</td>\n",
       "      <td>23</td>\n",
       "      <td>0</td>\n",
       "      <td>0</td>\n",
       "      <td>0</td>\n",
       "      <td>0</td>\n",
       "      <td>0</td>\n",
       "      <td>0</td>\n",
       "      <td>1</td>\n",
       "      <td>118488.0</td>\n",
       "    </tr>\n",
       "    <tr>\n",
       "      <th>7</th>\n",
       "      <td>1</td>\n",
       "      <td>39</td>\n",
       "      <td>0</td>\n",
       "      <td>0</td>\n",
       "      <td>0</td>\n",
       "      <td>0</td>\n",
       "      <td>0</td>\n",
       "      <td>0</td>\n",
       "      <td>1</td>\n",
       "      <td>116402.0</td>\n",
       "    </tr>\n",
       "    <tr>\n",
       "      <th>9</th>\n",
       "      <td>1</td>\n",
       "      <td>19</td>\n",
       "      <td>0</td>\n",
       "      <td>0</td>\n",
       "      <td>0</td>\n",
       "      <td>0</td>\n",
       "      <td>0</td>\n",
       "      <td>0</td>\n",
       "      <td>-1</td>\n",
       "      <td>126695.0</td>\n",
       "    </tr>\n",
       "    <tr>\n",
       "      <th>10</th>\n",
       "      <td>1</td>\n",
       "      <td>30</td>\n",
       "      <td>0</td>\n",
       "      <td>0</td>\n",
       "      <td>0</td>\n",
       "      <td>0</td>\n",
       "      <td>0</td>\n",
       "      <td>0</td>\n",
       "      <td>-1</td>\n",
       "      <td>118909.0</td>\n",
       "    </tr>\n",
       "  </tbody>\n",
       "</table>\n",
       "</div>"
      ],
      "text/plain": [
       "   Gender  Age Scholarship Hipertension Diabetes Alcoholism Handcap  \\\n",
       "5       1   76           0            1        0          0       0   \n",
       "6       1   23           0            0        0          0       0   \n",
       "7       1   39           0            0        0          0       0   \n",
       "9       1   19           0            0        0          0       0   \n",
       "10      1   30           0            0        0          0       0   \n",
       "\n",
       "   SMS_received No-show   Seconds  \n",
       "5             0      -1  141789.0  \n",
       "6             0       1  118488.0  \n",
       "7             0       1  116402.0  \n",
       "9             0      -1  126695.0  \n",
       "10            0      -1  118909.0  "
      ]
     },
     "execution_count": 24,
     "metadata": {},
     "output_type": "execute_result"
    }
   ],
   "source": [
    "clean_appt_df.head()"
   ]
  },
  {
   "cell_type": "markdown",
   "metadata": {},
   "source": [
    "## Test set creation\n",
    "\n",
    "- Create a test set of 20k records\n",
    "- Use stratified sampling on the `No-Show` variable to make sure class proportions are the same for train and test sets\n",
    "- Save train and test sets as csv files in the `processed_data` directory"
   ]
  },
  {
   "cell_type": "markdown",
   "metadata": {},
   "source": [
    "#### create a test set of 20k records"
   ]
  },
  {
   "cell_type": "code",
   "execution_count": 25,
   "metadata": {},
   "outputs": [
    {
     "data": {
      "text/plain": [
       "-1    0.714558\n",
       " 1    0.285442\n",
       "Name: No-show, dtype: float64"
      ]
     },
     "execution_count": 25,
     "metadata": {},
     "output_type": "execute_result"
    }
   ],
   "source": [
    "PROCESSED_DATA_DIR = '/Users/Emma/Box Sync/Maryland/Courses/CMSC643 Machine Learning and Data Mining/Code/cmsc643_noshow/processed_data'\n",
    "\n",
    "# create test set with stratified sampling here\n",
    "# refer to the intro notebook posted in class calendar for example\n",
    "\n",
    "# use No-show to make sure class proportions are the same for train and test sets\n",
    "clean_appt_df['No-show'].value_counts() / len(clean_appt_df)"
   ]
  },
  {
   "cell_type": "code",
   "execution_count": 26,
   "metadata": {},
   "outputs": [],
   "source": [
    "from sklearn.model_selection import train_test_split\n",
    "\n",
    "train_set, test_set= train_test_split(clean_appt_df, test_size = 20000 / len(clean_appt_df))"
   ]
  },
  {
   "cell_type": "markdown",
   "metadata": {},
   "source": [
    "#### make sure class proportions are the same for train and test sets"
   ]
  },
  {
   "cell_type": "code",
   "execution_count": 27,
   "metadata": {},
   "outputs": [
    {
     "data": {
      "text/plain": [
       "-1    0.716392\n",
       " 1    0.283608\n",
       "Name: No-show, dtype: float64"
      ]
     },
     "execution_count": 27,
     "metadata": {},
     "output_type": "execute_result"
    }
   ],
   "source": [
    "train_set['No-show'].value_counts() / len(train_set)"
   ]
  },
  {
   "cell_type": "code",
   "execution_count": 28,
   "metadata": {},
   "outputs": [
    {
     "data": {
      "text/plain": [
       "-1    0.71\n",
       " 1    0.29\n",
       "Name: No-show, dtype: float64"
      ]
     },
     "execution_count": 28,
     "metadata": {},
     "output_type": "execute_result"
    }
   ],
   "source": [
    "test_set['No-show'].value_counts() / len(test_set)"
   ]
  },
  {
   "cell_type": "markdown",
   "metadata": {},
   "source": [
    "#### save train and test sets as csv files in the processed_data directory"
   ]
  },
  {
   "cell_type": "code",
   "execution_count": 29,
   "metadata": {},
   "outputs": [],
   "source": [
    "output_train = PROCESSED_DATA_DIR + '/train.csv'\n",
    "output_test = PROCESSED_DATA_DIR + '/test.csv'"
   ]
  },
  {
   "cell_type": "code",
   "execution_count": 30,
   "metadata": {},
   "outputs": [],
   "source": [
    "np.savetxt(output_train, train_set, delimiter=',')\n",
    "np.savetxt(output_test, test_set, delimiter=',')"
   ]
  },
  {
   "cell_type": "markdown",
   "metadata": {},
   "source": [
    "## Exploratory Data Analysis\n",
    "\n",
    "Plot the `No-show` variable against other variables. Remember from this point forward you are only using the training set created in the previous step"
   ]
  },
  {
   "cell_type": "markdown",
   "metadata": {},
   "source": [
    "#### make copy of train set"
   ]
  },
  {
   "cell_type": "code",
   "execution_count": 31,
   "metadata": {},
   "outputs": [],
   "source": [
    "clean_appt_df = train_set.copy()"
   ]
  },
  {
   "cell_type": "code",
   "execution_count": 32,
   "metadata": {},
   "outputs": [
    {
     "data": {
      "text/html": [
       "<div>\n",
       "<style scoped>\n",
       "    .dataframe tbody tr th:only-of-type {\n",
       "        vertical-align: middle;\n",
       "    }\n",
       "\n",
       "    .dataframe tbody tr th {\n",
       "        vertical-align: top;\n",
       "    }\n",
       "\n",
       "    .dataframe thead th {\n",
       "        text-align: right;\n",
       "    }\n",
       "</style>\n",
       "<table border=\"1\" class=\"dataframe\">\n",
       "  <thead>\n",
       "    <tr style=\"text-align: right;\">\n",
       "      <th></th>\n",
       "      <th>Gender</th>\n",
       "      <th>Age</th>\n",
       "      <th>Scholarship</th>\n",
       "      <th>Hipertension</th>\n",
       "      <th>Diabetes</th>\n",
       "      <th>Alcoholism</th>\n",
       "      <th>Handcap</th>\n",
       "      <th>SMS_received</th>\n",
       "      <th>No-show</th>\n",
       "      <th>Seconds</th>\n",
       "    </tr>\n",
       "  </thead>\n",
       "  <tbody>\n",
       "    <tr>\n",
       "      <th>607</th>\n",
       "      <td>1</td>\n",
       "      <td>63</td>\n",
       "      <td>0</td>\n",
       "      <td>0</td>\n",
       "      <td>0</td>\n",
       "      <td>0</td>\n",
       "      <td>0</td>\n",
       "      <td>0</td>\n",
       "      <td>-1</td>\n",
       "      <td>48204.0</td>\n",
       "    </tr>\n",
       "    <tr>\n",
       "      <th>107858</th>\n",
       "      <td>1</td>\n",
       "      <td>70</td>\n",
       "      <td>0</td>\n",
       "      <td>0</td>\n",
       "      <td>0</td>\n",
       "      <td>0</td>\n",
       "      <td>0</td>\n",
       "      <td>1</td>\n",
       "      <td>1</td>\n",
       "      <td>3163503.0</td>\n",
       "    </tr>\n",
       "    <tr>\n",
       "      <th>56130</th>\n",
       "      <td>1</td>\n",
       "      <td>41</td>\n",
       "      <td>1</td>\n",
       "      <td>0</td>\n",
       "      <td>0</td>\n",
       "      <td>0</td>\n",
       "      <td>0</td>\n",
       "      <td>1</td>\n",
       "      <td>1</td>\n",
       "      <td>2387393.0</td>\n",
       "    </tr>\n",
       "    <tr>\n",
       "      <th>80063</th>\n",
       "      <td>1</td>\n",
       "      <td>41</td>\n",
       "      <td>0</td>\n",
       "      <td>1</td>\n",
       "      <td>1</td>\n",
       "      <td>0</td>\n",
       "      <td>0</td>\n",
       "      <td>0</td>\n",
       "      <td>-1</td>\n",
       "      <td>924686.0</td>\n",
       "    </tr>\n",
       "    <tr>\n",
       "      <th>4386</th>\n",
       "      <td>0</td>\n",
       "      <td>52</td>\n",
       "      <td>0</td>\n",
       "      <td>0</td>\n",
       "      <td>0</td>\n",
       "      <td>0</td>\n",
       "      <td>0</td>\n",
       "      <td>1</td>\n",
       "      <td>1</td>\n",
       "      <td>298929.0</td>\n",
       "    </tr>\n",
       "  </tbody>\n",
       "</table>\n",
       "</div>"
      ],
      "text/plain": [
       "       Gender  Age Scholarship Hipertension Diabetes Alcoholism Handcap  \\\n",
       "607         1   63           0            0        0          0       0   \n",
       "107858      1   70           0            0        0          0       0   \n",
       "56130       1   41           1            0        0          0       0   \n",
       "80063       1   41           0            1        1          0       0   \n",
       "4386        0   52           0            0        0          0       0   \n",
       "\n",
       "       SMS_received No-show    Seconds  \n",
       "607               0      -1    48204.0  \n",
       "107858            1       1  3163503.0  \n",
       "56130             1       1  2387393.0  \n",
       "80063             0      -1   924686.0  \n",
       "4386              1       1   298929.0  "
      ]
     },
     "execution_count": 32,
     "metadata": {},
     "output_type": "execute_result"
    }
   ],
   "source": [
    "clean_appt_df.head()"
   ]
  },
  {
   "cell_type": "markdown",
   "metadata": {},
   "source": [
    "#### plot the No-show variable against other variables"
   ]
  },
  {
   "cell_type": "code",
   "execution_count": 33,
   "metadata": {},
   "outputs": [],
   "source": [
    "import matplotlib.pyplot as plt\n",
    "\n",
    "plt.style.use('seaborn-deep')\n",
    "\n",
    "def plot_histogram(variable):\n",
    "    if variable not in list(clean_appt_df.columns.values):\n",
    "        raise ValueError('variable not found in the data set.')\n",
    "        \n",
    "    x = clean_appt_df[clean_appt_df['No-show'] == -1][variable]\n",
    "    y = clean_appt_df[clean_appt_df['No-show'] == 1][variable]\n",
    "\n",
    "    plt.hist([x, y], label=['No-show', 'Show'])\n",
    "    plt.xlabel(variable)\n",
    "    plt.ylabel('Frequency')\n",
    "    plt.title('Histogram of Show and No-show Frequency Count on ' + variable + '\\n')\n",
    "    plt.legend(loc='upper right')"
   ]
  },
  {
   "cell_type": "code",
   "execution_count": 34,
   "metadata": {},
   "outputs": [
    {
     "data": {
      "image/png": "[encoded data removed]",
      "text/plain": [
       "<Figure size 432x288 with 1 Axes>"
      ]
     },
     "metadata": {},
     "output_type": "display_data"
    }
   ],
   "source": [
    "plot_histogram('Age')"
   ]
  },
  {
   "cell_type": "code",
   "execution_count": 35,
   "metadata": {},
   "outputs": [
    {
     "data": {
      "image/png": "[encoded data removed]",
      "text/plain": [
       "<Figure size 432x288 with 1 Axes>"
      ]
     },
     "metadata": {},
     "output_type": "display_data"
    }
   ],
   "source": [
    "plot_histogram('Seconds')"
   ]
  },
  {
   "cell_type": "code",
   "execution_count": 36,
   "metadata": {},
   "outputs": [],
   "source": [
    "def plot_histogram_cat(variable):\n",
    "    if variable not in list(clean_appt_df.columns.values):\n",
    "        raise ValueError('variable not found in the data set.')\n",
    "        \n",
    "    x = clean_appt_df[clean_appt_df['No-show'] == -1][variable]\n",
    "    y = clean_appt_df[clean_appt_df['No-show'] == 1][variable]\n",
    "\n",
    "    plt.hist([x, y], bins = 2, label=['No-show', 'Show'])\n",
    "    plt.xlabel(variable)\n",
    "    plt.ylabel('Frequency')\n",
    "    if variable == 'Gender':\n",
    "        plt.xticks([0.25, 0.75], ('Male', 'Female'))\n",
    "    else:\n",
    "        plt.xticks([0.25, 0.75], ('No', 'Yes'))\n",
    "    plt.title('Histogram of Show and No-show Frequency Count on ' + variable + '\\n')\n",
    "    plt.legend(loc='upper right')"
   ]
  },
  {
   "cell_type": "code",
   "execution_count": 37,
   "metadata": {},
   "outputs": [
    {
     "data": {
      "image/png": "[encoded data removed]",
      "text/plain": [
       "<Figure size 432x288 with 1 Axes>"
      ]
     },
     "metadata": {},
     "output_type": "display_data"
    },
    {
     "data": {
      "image/png": "[encoded data removed]",
      "text/plain": [
       "<Figure size 432x288 with 1 Axes>"
      ]
     },
     "metadata": {},
     "output_type": "display_data"
    },
    {
     "data": {
      "image/png": "[encoded data removed]",
      "text/plain": [
       "<Figure size 432x288 with 1 Axes>"
      ]
     },
     "metadata": {},
     "output_type": "display_data"
    },
    {
     "data": {
      "image/png": "[encoded data removed]",
      "text/plain": [
       "<Figure size 432x288 with 1 Axes>"
      ]
     },
     "metadata": {},
     "output_type": "display_data"
    },
    {
     "data": {
      "image/png": "[encoded data removed]",
      "text/plain": [
       "<Figure size 432x288 with 1 Axes>"
      ]
     },
     "metadata": {},
     "output_type": "display_data"
    },
    {
     "data": {
      "image/png": "[encoded data removed]",
      "text/plain": [
       "<Figure size 432x288 with 1 Axes>"
      ]
     },
     "metadata": {},
     "output_type": "display_data"
    },
    {
     "data": {
      "image/png": "[encoded data removed]",
      "text/plain": [
       "<Figure size 432x288 with 1 Axes>"
      ]
     },
     "metadata": {},
     "output_type": "display_data"
    },
    {
     "data": {
      "text/plain": [
       "<Figure size 432x288 with 0 Axes>"
      ]
     },
     "metadata": {},
     "output_type": "display_data"
    }
   ],
   "source": [
    "for col in list(clean_appt_df.columns.values):\n",
    "    if col in ['Age','No-show', 'Seconds']:\n",
    "        continue\n",
    "    plot_histogram_cat(col)\n",
    "    plt.figure()"
   ]
  },
  {
   "cell_type": "markdown",
   "metadata": {},
   "source": [
    "## Data preprocessing\n",
    "\n",
    "Create a scikit pipeline for preprocessing the data to prepare it for ML algorithms. At a minimum your pipeline should:\n",
    "\n",
    "- Standardize numerical variables\n",
    "- Transform categorical variables into numeric variables\n",
    "\n",
    "Optionally, you can perform any other transformation you think is suitable. Again, refer to the intro notebook for an example of setting up a preprocessing pipeline."
   ]
  },
  {
   "cell_type": "markdown",
   "metadata": {},
   "source": [
    "#### seperate X and y"
   ]
  },
  {
   "cell_type": "code",
   "execution_count": 38,
   "metadata": {},
   "outputs": [],
   "source": [
    "train_y = clean_appt_df['No-show']\n",
    "train_X = clean_appt_df[['Gender', 'Age', 'Scholarship', 'Hipertension', 'Diabetes', 'Alcoholism', 'Handcap', 'SMS_received', 'Seconds']]"
   ]
  },
  {
   "cell_type": "markdown",
   "metadata": {},
   "source": [
    "#### create a data pipeline"
   ]
  },
  {
   "cell_type": "code",
   "execution_count": 39,
   "metadata": {},
   "outputs": [
    {
     "data": {
      "text/html": [
       "<div>\n",
       "<style scoped>\n",
       "    .dataframe tbody tr th:only-of-type {\n",
       "        vertical-align: middle;\n",
       "    }\n",
       "\n",
       "    .dataframe tbody tr th {\n",
       "        vertical-align: top;\n",
       "    }\n",
       "\n",
       "    .dataframe thead th {\n",
       "        text-align: right;\n",
       "    }\n",
       "</style>\n",
       "<table border=\"1\" class=\"dataframe\">\n",
       "  <thead>\n",
       "    <tr style=\"text-align: right;\">\n",
       "      <th></th>\n",
       "      <th>Gender</th>\n",
       "      <th>Age</th>\n",
       "      <th>Scholarship</th>\n",
       "      <th>Hipertension</th>\n",
       "      <th>Diabetes</th>\n",
       "      <th>Alcoholism</th>\n",
       "      <th>Handcap</th>\n",
       "      <th>SMS_received</th>\n",
       "      <th>Seconds</th>\n",
       "    </tr>\n",
       "  </thead>\n",
       "  <tbody>\n",
       "    <tr>\n",
       "      <th>607</th>\n",
       "      <td>1</td>\n",
       "      <td>63</td>\n",
       "      <td>0</td>\n",
       "      <td>0</td>\n",
       "      <td>0</td>\n",
       "      <td>0</td>\n",
       "      <td>0</td>\n",
       "      <td>0</td>\n",
       "      <td>48204.0</td>\n",
       "    </tr>\n",
       "    <tr>\n",
       "      <th>107858</th>\n",
       "      <td>1</td>\n",
       "      <td>70</td>\n",
       "      <td>0</td>\n",
       "      <td>0</td>\n",
       "      <td>0</td>\n",
       "      <td>0</td>\n",
       "      <td>0</td>\n",
       "      <td>1</td>\n",
       "      <td>3163503.0</td>\n",
       "    </tr>\n",
       "    <tr>\n",
       "      <th>56130</th>\n",
       "      <td>1</td>\n",
       "      <td>41</td>\n",
       "      <td>1</td>\n",
       "      <td>0</td>\n",
       "      <td>0</td>\n",
       "      <td>0</td>\n",
       "      <td>0</td>\n",
       "      <td>1</td>\n",
       "      <td>2387393.0</td>\n",
       "    </tr>\n",
       "    <tr>\n",
       "      <th>80063</th>\n",
       "      <td>1</td>\n",
       "      <td>41</td>\n",
       "      <td>0</td>\n",
       "      <td>1</td>\n",
       "      <td>1</td>\n",
       "      <td>0</td>\n",
       "      <td>0</td>\n",
       "      <td>0</td>\n",
       "      <td>924686.0</td>\n",
       "    </tr>\n",
       "    <tr>\n",
       "      <th>4386</th>\n",
       "      <td>0</td>\n",
       "      <td>52</td>\n",
       "      <td>0</td>\n",
       "      <td>0</td>\n",
       "      <td>0</td>\n",
       "      <td>0</td>\n",
       "      <td>0</td>\n",
       "      <td>1</td>\n",
       "      <td>298929.0</td>\n",
       "    </tr>\n",
       "  </tbody>\n",
       "</table>\n",
       "</div>"
      ],
      "text/plain": [
       "       Gender  Age Scholarship Hipertension Diabetes Alcoholism Handcap  \\\n",
       "607         1   63           0            0        0          0       0   \n",
       "107858      1   70           0            0        0          0       0   \n",
       "56130       1   41           1            0        0          0       0   \n",
       "80063       1   41           0            1        1          0       0   \n",
       "4386        0   52           0            0        0          0       0   \n",
       "\n",
       "       SMS_received    Seconds  \n",
       "607               0    48204.0  \n",
       "107858            1  3163503.0  \n",
       "56130             1  2387393.0  \n",
       "80063             0   924686.0  \n",
       "4386              1   298929.0  "
      ]
     },
     "execution_count": 39,
     "metadata": {},
     "output_type": "execute_result"
    }
   ],
   "source": [
    "train_X.head()"
   ]
  },
  {
   "cell_type": "code",
   "execution_count": 40,
   "metadata": {},
   "outputs": [
    {
     "data": {
      "text/plain": [
       "607      -1\n",
       "107858    1\n",
       "56130     1\n",
       "80063    -1\n",
       "4386      1\n",
       "Name: No-show, dtype: category\n",
       "Categories (2, int64): [-1, 1]"
      ]
     },
     "execution_count": 40,
     "metadata": {},
     "output_type": "execute_result"
    }
   ],
   "source": [
    "train_y.head()"
   ]
  },
  {
   "cell_type": "code",
   "execution_count": 41,
   "metadata": {},
   "outputs": [],
   "source": [
    "from sklearn.pipeline import Pipeline, FeatureUnion\n",
    "from sklearn.base import BaseEstimator, TransformerMixin\n",
    "from sklearn.preprocessing import StandardScaler, LabelBinarizer\n",
    "from sklearn_pandas import DataFrameMapper\n",
    "\n",
    "cat_attributes = ['Gender', 'Scholarship', 'Hipertension', 'Diabetes', 'Alcoholism', 'Handcap', 'SMS_received']\n",
    "num_attributes = [x for x in list(train_X) if x not in cat_attributes]\n",
    "\n",
    "class NormalizedAttributes(BaseEstimator, TransformerMixin):\n",
    "\n",
    "    def __init__(self):\n",
    "        self.age_ix = 0\n",
    "        self.seconds_ix = 1\n",
    "    \n",
    "    def fit(self, X, y=None):\n",
    "        return self\n",
    "    \n",
    "    def transform(self, X, y=None):\n",
    "        age_normal = (X[:, self.age_ix] - np.mean(X[:, self.age_ix])) / np.std(X[:, self.age_ix])\n",
    "        seconds_normal = (X[:, self.seconds_ix] - np.mean(X[:, self.seconds_ix])) / np.std(X[:, self.seconds_ix])\n",
    "        return np.c_[age_normal, seconds_normal] \n",
    "    \n",
    "class MyNumeric(TransformerMixin):\n",
    "    \n",
    "    def __init__(self):\n",
    "        self.gender_ix = 0\n",
    "        self.scholarship_ix = 1\n",
    "        self.hipertension_ix = 2\n",
    "        self.diabetes_ix = 3\n",
    "        self.alcoholism_ix = 4\n",
    "        self.handcap_ix = 5\n",
    "        self.sms_received_ix = 6\n",
    "\n",
    "    def fit(self, X, y=None):\n",
    "        return self\n",
    "    \n",
    "    def transform(self, X, y=0):\n",
    "        gender_int = X[:, self.gender_ix].astype('int')\n",
    "        scholarship_int = X[:, self.scholarship_ix].astype('int')\n",
    "        hipertension_int = X[:, self.hipertension_ix].astype('int')\n",
    "        diabetes_int = X[:, self.diabetes_ix].astype('int')\n",
    "        alcoholism_int = X[:, self.alcoholism_ix].astype('int')\n",
    "        handcap_int = X[:, self.handcap_ix].astype('int')\n",
    "        sms_received_int = X[:, self.sms_received_ix].astype('int')\n",
    "        return np.c_[gender_int, scholarship_int, hipertension_int, diabetes_int, alcoholism_int, handcap_int, sms_received_int]\n",
    "    \n",
    "class MyLabelBinarizer(TransformerMixin):\n",
    "    \n",
    "    def __init__(self, *args, **kwargs):\n",
    "        self.encoder = LabelBinarizer(*args, **kwargs)\n",
    "        \n",
    "    def fit(self, x, y=0):\n",
    "        self.encoder.fit(x)\n",
    "        return self\n",
    "    \n",
    "    def transform(self, x, y=0):\n",
    "        return self.encoder.transform(x)\n",
    "\n",
    "num_pipeline = Pipeline([\n",
    "    ('attribs', NormalizedAttributes()) # Standardize numerical variables\n",
    "])\n",
    "\n",
    "cat_pipeline = Pipeline([ \n",
    "    ('numeric', MyNumeric()), # Transform categorical variables into numeric variables\n",
    "    ('label_binarizer', MyLabelBinarizer()) \n",
    "])\n",
    "\n",
    "full_pipeline = DataFrameMapper([\n",
    "    (cat_attributes, cat_pipeline),\n",
    "    (num_attributes, num_pipeline)\n",
    "])"
   ]
  },
  {
   "cell_type": "code",
   "execution_count": 42,
   "metadata": {},
   "outputs": [
    {
     "data": {
      "text/html": [
       "<div>\n",
       "<style scoped>\n",
       "    .dataframe tbody tr th:only-of-type {\n",
       "        vertical-align: middle;\n",
       "    }\n",
       "\n",
       "    .dataframe tbody tr th {\n",
       "        vertical-align: top;\n",
       "    }\n",
       "\n",
       "    .dataframe thead th {\n",
       "        text-align: right;\n",
       "    }\n",
       "</style>\n",
       "<table border=\"1\" class=\"dataframe\">\n",
       "  <thead>\n",
       "    <tr style=\"text-align: right;\">\n",
       "      <th></th>\n",
       "      <th>Gender</th>\n",
       "      <th>Age</th>\n",
       "      <th>Scholarship</th>\n",
       "      <th>Hipertension</th>\n",
       "      <th>Diabetes</th>\n",
       "      <th>Alcoholism</th>\n",
       "      <th>Handcap</th>\n",
       "      <th>SMS_received</th>\n",
       "      <th>Seconds</th>\n",
       "    </tr>\n",
       "  </thead>\n",
       "  <tbody>\n",
       "    <tr>\n",
       "      <th>607</th>\n",
       "      <td>1</td>\n",
       "      <td>63</td>\n",
       "      <td>0</td>\n",
       "      <td>0</td>\n",
       "      <td>0</td>\n",
       "      <td>0</td>\n",
       "      <td>0</td>\n",
       "      <td>0</td>\n",
       "      <td>48204.0</td>\n",
       "    </tr>\n",
       "    <tr>\n",
       "      <th>107858</th>\n",
       "      <td>1</td>\n",
       "      <td>70</td>\n",
       "      <td>0</td>\n",
       "      <td>0</td>\n",
       "      <td>0</td>\n",
       "      <td>0</td>\n",
       "      <td>0</td>\n",
       "      <td>1</td>\n",
       "      <td>3163503.0</td>\n",
       "    </tr>\n",
       "    <tr>\n",
       "      <th>56130</th>\n",
       "      <td>1</td>\n",
       "      <td>41</td>\n",
       "      <td>1</td>\n",
       "      <td>0</td>\n",
       "      <td>0</td>\n",
       "      <td>0</td>\n",
       "      <td>0</td>\n",
       "      <td>1</td>\n",
       "      <td>2387393.0</td>\n",
       "    </tr>\n",
       "    <tr>\n",
       "      <th>80063</th>\n",
       "      <td>1</td>\n",
       "      <td>41</td>\n",
       "      <td>0</td>\n",
       "      <td>1</td>\n",
       "      <td>1</td>\n",
       "      <td>0</td>\n",
       "      <td>0</td>\n",
       "      <td>0</td>\n",
       "      <td>924686.0</td>\n",
       "    </tr>\n",
       "    <tr>\n",
       "      <th>4386</th>\n",
       "      <td>0</td>\n",
       "      <td>52</td>\n",
       "      <td>0</td>\n",
       "      <td>0</td>\n",
       "      <td>0</td>\n",
       "      <td>0</td>\n",
       "      <td>0</td>\n",
       "      <td>1</td>\n",
       "      <td>298929.0</td>\n",
       "    </tr>\n",
       "  </tbody>\n",
       "</table>\n",
       "</div>"
      ],
      "text/plain": [
       "       Gender  Age Scholarship Hipertension Diabetes Alcoholism Handcap  \\\n",
       "607         1   63           0            0        0          0       0   \n",
       "107858      1   70           0            0        0          0       0   \n",
       "56130       1   41           1            0        0          0       0   \n",
       "80063       1   41           0            1        1          0       0   \n",
       "4386        0   52           0            0        0          0       0   \n",
       "\n",
       "       SMS_received    Seconds  \n",
       "607               0    48204.0  \n",
       "107858            1  3163503.0  \n",
       "56130             1  2387393.0  \n",
       "80063             0   924686.0  \n",
       "4386              1   298929.0  "
      ]
     },
     "execution_count": 42,
     "metadata": {},
     "output_type": "execute_result"
    }
   ],
   "source": [
    "train_X.head()"
   ]
  },
  {
   "cell_type": "code",
   "execution_count": 43,
   "metadata": {},
   "outputs": [
    {
     "data": {
      "text/plain": [
       "['default', 'df_out', 'features', 'input_df', 'sparse']"
      ]
     },
     "execution_count": 43,
     "metadata": {},
     "output_type": "execute_result"
    }
   ],
   "source": [
    "sorted(full_pipeline.get_params().keys())"
   ]
  },
  {
   "cell_type": "code",
   "execution_count": 44,
   "metadata": {},
   "outputs": [],
   "source": [
    "train_X_clean = full_pipeline.fit_transform(train_X)"
   ]
  },
  {
   "cell_type": "code",
   "execution_count": 45,
   "metadata": {},
   "outputs": [
    {
     "data": {
      "text/plain": [
       "(49706, 9)"
      ]
     },
     "execution_count": 45,
     "metadata": {},
     "output_type": "execute_result"
    }
   ],
   "source": [
    "train_X_clean.shape"
   ]
  },
  {
   "cell_type": "code",
   "execution_count": 46,
   "metadata": {},
   "outputs": [
    {
     "data": {
      "text/plain": [
       "array([[ 1.        ,  0.        ,  0.        , ...,  0.        ,\n",
       "         1.05215472, -0.88804517],\n",
       "       [ 1.        ,  0.        ,  0.        , ...,  1.        ,\n",
       "         1.36731056,  1.3198687 ],\n",
       "       [ 1.        ,  1.        ,  0.        , ...,  1.        ,\n",
       "         0.0616649 ,  0.76981426],\n",
       "       ...,\n",
       "       [ 0.        ,  0.        ,  0.        , ...,  0.        ,\n",
       "        -1.64918113, -0.39570283],\n",
       "       [ 1.        ,  0.        ,  0.        , ...,  0.        ,\n",
       "        -1.01886943,  1.00556281],\n",
       "       [ 1.        ,  0.        ,  0.        , ...,  0.        ,\n",
       "        -0.52362453, -0.89515943]])"
      ]
     },
     "execution_count": 46,
     "metadata": {},
     "output_type": "execute_result"
    }
   ],
   "source": [
    "train_X_clean.view()"
   ]
  },
  {
   "cell_type": "markdown",
   "metadata": {},
   "source": [
    "### Model Building\n",
    "\n",
    "Using `sklearn` fit:\n",
    "    - DecisionTree classifier\n",
    "    - RandomForest classifier\n",
    "    - Linear SVM classifier\n",
    "    - SVM with Radial Basis Kernel classifier\n",
    "    \n",
    "Use default parameters for now.\n",
    "Using 10-fold cross validation report both accuracy and AUC for each of the above four models.\n",
    "\n",
    "QUESTION: Should you use accuracy or AUC for this task as a performance metric?\n",
    "\n",
    "AUC is a better metric than accuracy for binary classifiers that have a notifion of decision threshold internally.\n",
    "\n",
    "Accuracy is the proportion of true positives and true negatives in relation to the entire data set (correct classifications). A threshold must be chosen to make a distinction between positive the classification of different groups. In many cases, accuracy is not substantial enough to make a prediction. Meanwhile, AUROC plots the true positve rate (TPR) over the false positive rate (FPR).\n",
    "\n",
    "However while accuracy aims to reduce both FP and FN and improve both TP and TN, in ROC we can choose to give more importance to one type of error/misclassification over the other."
   ]
  },
  {
   "cell_type": "markdown",
   "metadata": {},
   "source": [
    "#### Using sklearn fit DecisionTree classifier"
   ]
  },
  {
   "cell_type": "code",
   "execution_count": 47,
   "metadata": {},
   "outputs": [
    {
     "name": "stdout",
     "output_type": "stream",
     "text": [
      "Model\n",
      "DecisionTreeClassifier(class_weight=None, criterion='gini', max_depth=None,\n",
      "            max_features=None, max_leaf_nodes=None,\n",
      "            min_impurity_split=1e-07, min_samples_leaf=1,\n",
      "            min_samples_split=2, min_weight_fraction_leaf=0.0,\n",
      "            presort=False, random_state=None, splitter='best')\n",
      "Accuracy:\n",
      "[0.62301348 0.61899014 0.61174814 0.61677731 0.61335747 0.61637497\n",
      " 0.62542748 0.61770624 0.61227364 0.61521433]\n",
      "AUC:\n",
      "[0.53791578 0.54694295 0.52016268 0.53173505 0.53244905 0.52312602\n",
      " 0.54060508 0.53520634 0.52728379 0.53499264]\n"
     ]
    }
   ],
   "source": [
    "# build your models here\n",
    "from sklearn.linear_model import LinearRegression\n",
    "from sklearn.tree import DecisionTreeClassifier\n",
    "from sklearn.ensemble import RandomForestClassifier\n",
    "from sklearn.svm import LinearSVC\n",
    "from sklearn.svm import SVC\n",
    "from sklearn.model_selection import cross_val_score\n",
    "\n",
    "model = DecisionTreeClassifier()\n",
    "model.fit(train_X_clean, train_y)\n",
    "\n",
    "tree_accuracy = cross_val_score(model, train_X_clean, train_y, \n",
    "                                scoring=\"accuracy\", cv=10)\n",
    "tree_auc = cross_val_score(model, train_X_clean, train_y, \n",
    "                           scoring=\"roc_auc\", cv=10)\n",
    "\n",
    "#fit model using training data\n",
    "print(\"Model\")\n",
    "print(model)\n",
    "print(\"Accuracy:\")\n",
    "print(tree_accuracy)\n",
    "print(\"AUC:\")\n",
    "print(tree_auc)"
   ]
  },
  {
   "cell_type": "markdown",
   "metadata": {},
   "source": [
    "#### Using sklearn fit RandomForest classifier"
   ]
  },
  {
   "cell_type": "code",
   "execution_count": 48,
   "metadata": {},
   "outputs": [
    {
     "name": "stdout",
     "output_type": "stream",
     "text": [
      "Model\n",
      "RandomForestClassifier(bootstrap=True, class_weight=None, criterion='gini',\n",
      "            max_depth=None, max_features='auto', max_leaf_nodes=None,\n",
      "            min_impurity_split=1e-07, min_samples_leaf=1,\n",
      "            min_samples_split=2, min_weight_fraction_leaf=0.0,\n",
      "            n_estimators=100, n_jobs=1, oob_score=False, random_state=None,\n",
      "            verbose=0, warm_start=False)\n",
      "Accuracy:\n",
      "[0.65178033 0.65359083 0.65037216 0.64071615 0.64473949 0.64212432\n",
      " 0.665862   0.64144869 0.65251509 0.64741397]\n",
      "AUC:\n",
      "[0.56735268 0.57351758 0.55663422 0.55767495 0.54848118 0.5537135\n",
      " 0.57541879 0.55364479 0.564446   0.56118422]\n"
     ]
    }
   ],
   "source": [
    "rand_forest = RandomForestClassifier(n_estimators=100)\n",
    "model = rand_forest.fit(train_X_clean, train_y.values.ravel())\n",
    "\n",
    "rnd_clf_accuracy = cross_val_score(rand_forest, train_X_clean, train_y, \n",
    "                                   scoring=\"accuracy\", cv=10)\n",
    "rnd_clf_auc = cross_val_score(rand_forest, train_X_clean, train_y, \n",
    "                              scoring=\"roc_auc\", cv=10)\n",
    "\n",
    "print(\"Model\")\n",
    "print(model)\n",
    "print(\"Accuracy:\")\n",
    "print(rnd_clf_accuracy)\n",
    "print(\"AUC:\")\n",
    "print(rnd_clf_auc)"
   ]
  },
  {
   "cell_type": "markdown",
   "metadata": {},
   "source": [
    "#### Using sklearn fit Linear SVM classifier"
   ]
  },
  {
   "cell_type": "code",
   "execution_count": 49,
   "metadata": {},
   "outputs": [
    {
     "name": "stdout",
     "output_type": "stream",
     "text": [
      "Model\n",
      "RandomForestClassifier(bootstrap=True, class_weight=None, criterion='gini',\n",
      "            max_depth=None, max_features='auto', max_leaf_nodes=None,\n",
      "            min_impurity_split=1e-07, min_samples_leaf=1,\n",
      "            min_samples_split=2, min_weight_fraction_leaf=0.0,\n",
      "            n_estimators=100, n_jobs=1, oob_score=False, random_state=None,\n",
      "            verbose=0, warm_start=False)\n",
      "Accuracy:\n",
      "[0.71635486 0.71635486 0.71635486 0.71635486 0.71635486 0.71635486\n",
      " 0.71635486 0.71649899 0.71649899 0.71644194]\n",
      "AUC:\n",
      "[0.45205805 0.54619827 0.48596677 0.51333975 0.45376827 0.53468884\n",
      " 0.44825931 0.43257879 0.50635552 0.54436129]\n"
     ]
    }
   ],
   "source": [
    "lin_svm = SVC(kernel = 'linear')\n",
    "lin_svm.fit(train_X_clean, train_y)\n",
    "\n",
    "lin_svm_accuracy = cross_val_score(lin_svm, train_X_clean, train_y, \n",
    "                                   scoring=\"accuracy\", cv=10)\n",
    "lin_svm_auc = cross_val_score(lin_svm, train_X_clean, train_y, \n",
    "                              scoring=\"roc_auc\", cv=10)\n",
    "\n",
    "print(\"Model\")\n",
    "print(model)\n",
    "print(\"Accuracy:\")\n",
    "print(lin_svm_accuracy)\n",
    "print(\"AUC:\")\n",
    "print(lin_svm_auc)"
   ]
  },
  {
   "cell_type": "markdown",
   "metadata": {},
   "source": [
    "#### Using sklearn fit SVM with Radial Basis Kernel classifier"
   ]
  },
  {
   "cell_type": "code",
   "execution_count": 50,
   "metadata": {},
   "outputs": [
    {
     "name": "stdout",
     "output_type": "stream",
     "text": [
      "Model\n",
      "RandomForestClassifier(bootstrap=True, class_weight=None, criterion='gini',\n",
      "            max_depth=None, max_features='auto', max_leaf_nodes=None,\n",
      "            min_impurity_split=1e-07, min_samples_leaf=1,\n",
      "            min_samples_split=2, min_weight_fraction_leaf=0.0,\n",
      "            n_estimators=100, n_jobs=1, oob_score=False, random_state=None,\n",
      "            verbose=0, warm_start=False)\n",
      "Accuracy:\n",
      "[0.71635486 0.71635486 0.71635486 0.71635486 0.71635486 0.71635486\n",
      " 0.71635486 0.71649899 0.71649899 0.71644194]\n",
      "AUC:\n",
      "[0.50458693 0.54967307 0.48130595 0.52858648 0.49275126 0.53087885\n",
      " 0.51501879 0.50956711 0.51549622 0.53655613]\n"
     ]
    }
   ],
   "source": [
    "lin_svm_rbf = SVC(kernel = \"rbf\")\n",
    "lin_svm_rbf.fit(train_X_clean, train_y)\n",
    "\n",
    "lin_svm_rbf_accuracy = cross_val_score(lin_svm_rbf, train_X_clean, train_y, \n",
    "                                       scoring=\"accuracy\", cv=10)\n",
    "lin_svm_rbf_auc = cross_val_score(lin_svm_rbf, train_X_clean, train_y, \n",
    "                                  scoring=\"roc_auc\", cv=10)\n",
    "\n",
    "print(\"Model\")\n",
    "print(model)\n",
    "print(\"Accuracy:\")\n",
    "print(lin_svm_rbf_accuracy)\n",
    "print(\"AUC:\")\n",
    "print(lin_svm_rbf_auc)"
   ]
  },
  {
   "cell_type": "markdown",
   "metadata": {},
   "source": [
    "#### Should you use accuracy or AUC as a metric for this task?\n",
    "### My thoughts:\n",
    "#### 1. roc_auc stands for area under the curve based on receiver operating characteristics. \n",
    "#### 2. Accuracy ignores probability estimations of classification in favor of class labels, and ROC curves show the trade off between false positive and true positive rates. Therefore AUC of ROC is a better measure than accuracy for comparing learning algorithms."
   ]
  },
  {
   "cell_type": "markdown",
   "metadata": {},
   "source": [
    "### Model Tuning\n",
    "\n",
    "Based on the above, choose two methods and fit a tuned model:\n",
    "    - use 5-fold cross validation for model selection\n",
    "    - use 10-fold cross validation for model assessment (based on appropriate performance metric)\n",
    "\n",
    "Report estimated performance for both tuned classifiers"
   ]
  },
  {
   "cell_type": "markdown",
   "metadata": {},
   "source": [
    "#### Use 5-fold cross validation for model selection with RandomForest classifier"
   ]
  },
  {
   "cell_type": "code",
   "execution_count": 51,
   "metadata": {},
   "outputs": [
    {
     "data": {
      "text/plain": [
       "dict_keys(['bootstrap', 'class_weight', 'criterion', 'max_depth', 'max_features', 'max_leaf_nodes', 'min_impurity_split', 'min_samples_leaf', 'min_samples_split', 'min_weight_fraction_leaf', 'n_estimators', 'n_jobs', 'oob_score', 'random_state', 'verbose', 'warm_start'])"
      ]
     },
     "execution_count": 51,
     "metadata": {},
     "output_type": "execute_result"
    }
   ],
   "source": [
    "rand_forest.get_params().keys()"
   ]
  },
  {
   "cell_type": "code",
   "execution_count": null,
   "metadata": {},
   "outputs": [],
   "source": [
    "from sklearn.model_selection import GridSearchCV\n",
    "\n",
    "params = {\"max_depth\": [3, 10, 15, 30],\n",
    "          \"max_features\": [1, 3, 6, 9],\n",
    "          \"min_samples_split\": [1, 3, 6, 9],\n",
    "          \"min_samples_leaf\": [1, 3, 6, 9],\n",
    "          \"criterion\": [\"gini\", \"entropy\"]}\n",
    "\n",
    "grid_search = GridSearchCV(estimator = rand_forest, param_grid = params, \n",
    "                           scoring = \"roc_auc\", cv = 5)\n",
    "grid_search.fit(train_X_clean, train_y)\n",
    "\n",
    "print(\"Random_Forest: \", grid_search.best_params_)\n",
    "print(\"AUC score is {}\".format(grid_search.best_score_))"
   ]
  },
  {
   "cell_type": "markdown",
   "metadata": {},
   "source": [
    "#### Random Forest model assessment with 10-fold based on AUC"
   ]
  },
  {
   "cell_type": "code",
   "execution_count": null,
   "metadata": {},
   "outputs": [],
   "source": [
    "from sklearn.model_selection import cross_val_score\n",
    "\n",
    "scores_RF = cross_val_score(RandomForestClassifier(n_estimators = 100, \n",
    "                                                   max_depth = 10, \n",
    "                                                   max_features = 3, \n",
    "                                                   min_samples_split = 6,\n",
    "                                                   min_samples_leaf = 1,\n",
    "                                                   criterion = \"gini\",\n",
    "                                                   verbose = 1), \n",
    "                            train_X_clean, train_y, cv = 10, scoring = 'roc_auc')"
   ]
  },
  {
   "cell_type": "code",
   "execution_count": null,
   "metadata": {},
   "outputs": [],
   "source": [
    "print(\"Mean of RF Scores:\", np.mean(scores_RF))"
   ]
  },
  {
   "cell_type": "markdown",
   "metadata": {},
   "source": [
    "#### Use 5-fold cross validation for model selection with SVM with Radial Basis Kernel classifier"
   ]
  },
  {
   "cell_type": "code",
   "execution_count": null,
   "metadata": {},
   "outputs": [],
   "source": [
    "lin_svm_rbf.get_params().keys()"
   ]
  },
  {
   "cell_type": "code",
   "execution_count": null,
   "metadata": {},
   "outputs": [],
   "source": [
    "vals = [0.0001, 0.01, 0.1, 1, 10]\n",
    "\n",
    "param_grid = {'C': vals}\n",
    "\n",
    "SVM_gs = GridSearchCV(estimator = lin_svm_rbf, param_grid = param_grid, \n",
    "                      scoring = \"roc_auc\", cv = 5)\n",
    "SVM_gs.fit(train_X_clean, train_y)\n",
    "\n",
    "print(\"SVM with Radial Basis Kernal: \", SVM_gs.best_params_)\n",
    "print(\"AUC score is {}\".format(SVM_gs.best_score_))"
   ]
  },
  {
   "cell_type": "markdown",
   "metadata": {},
   "source": [
    "#### SVM with Radial Basis Kernel model assessment with 10-fold based on AUC"
   ]
  },
  {
   "cell_type": "code",
   "execution_count": null,
   "metadata": {},
   "outputs": [],
   "source": [
    "scores_linsvm = cross_val_score(SVC(kernel = \"rbf\", C = 10, verbose = 1), \n",
    "                                train_X_clean, train_y, cv = 10, scoring = 'roc_auc')"
   ]
  },
  {
   "cell_type": "code",
   "execution_count": null,
   "metadata": {},
   "outputs": [],
   "source": [
    "print(\"Mean of SVM Scores:\", np.mean(scores_linsvm))"
   ]
  },
  {
   "cell_type": "markdown",
   "metadata": {},
   "source": [
    "#### Report estimated performance for the tuned classifiers.\n",
    "\n",
    "### Reports:\n",
    "#### 1. Estimated performance for random forest\n",
    "#### 2. Estimated performance for linear svm with radial basis kernel "
   ]
  },
  {
   "cell_type": "markdown",
   "metadata": {},
   "source": [
    "### Linear SVM with Gradient Descent"
   ]
  },
  {
   "cell_type": "code",
   "execution_count": null,
   "metadata": {},
   "outputs": [],
   "source": [
    "import numpy as np\n",
    "import math\n",
    "\n",
    "def _initialize_parameters(nfeatures):\n",
    "    w = np.random.randn(nfeatures) / math.sqrt(nfeatures)\n",
    "    # initialize w as unit column vector?\n",
    "    # No, because it doesn't affect the margin maximization problem.\n",
    "    # why its norm can represent penalty?\n",
    "    # the distance of margin 1 is defined as 1/norm\n",
    "    b = np.random.randn(1) / math.sqrt(nfeatures)\n",
    "    return w, b\n",
    "\n",
    "pos_part = np.vectorize(lambda u: u if u > 0. else 0.)\n",
    "\n",
    "def _get_objective(f, y, w, lam):\n",
    "    nobs = y.shape[0]\n",
    "    hinge_loss = np.sum(pos_part(1.0 - y * f)) / nobs \n",
    "    # hinge loss given signed vertical distance\n",
    "    # given sign and absolute value, bad distance goes to hinge loss\n",
    "    penalty = 0.5 * lam * np.dot(w,w)  # control model complexity\n",
    "    return hinge_loss + penalty\n",
    "\n",
    "def _get_signed_distances(X, w, b):\n",
    "    f = np.dot(X,w) + b \n",
    "    return f # f is a nobs by 1 vector\n",
    "\n",
    "t_part = np.vectorize(lambda r: 1. if r > 0. else 0.)\n",
    "\n",
    "def _get_gradients(f, X, y, w, b, lam):\n",
    "    nobs, nfeatures = X.shape\n",
    "    t = t_part(1. - y * f)\n",
    "    gw = - np.dot(np.transpose(X), t * y) / nobs + lam * w \n",
    "    # only adjust when misclassified. \n",
    "    # How the impact of misclassified ones are demonstrated?\n",
    "    # Only in Perceptron algorithm can it be graphed.\n",
    "    gb = - np.sum(t * y) / nobs\n",
    "    return gw, gb\n",
    "\n",
    "def fit_svm(X, y, lam, n_iter = 100, tol = 1e-10, eta = .4):\n",
    "    nobs, nfeatures = X.shape\n",
    "    \n",
    "    w, b = _initialize_parameters(nfeatures)\n",
    "    \n",
    "    prev_obj = 0\n",
    "    for k in range(n_iter):\n",
    "        f = _get_signed_distances(X, w, b) \n",
    "        \n",
    "        if k % round(n_iter/10) == 0:\n",
    "            obj = _get_objective(f, y, w, lam)\n",
    "            if k > 0 and abs(obj - prev_obj) < tol:\n",
    "                break\n",
    "            prev_obj = obj\n",
    "            eta = eta / 2.0 # decaying learning rate\n",
    "            print(\"iteration: %d, obj %.2f\" % (k, obj))\n",
    "        \n",
    "        gw, gb = _get_gradients(f, X, y, w, b, lam)\n",
    "        w = w - eta * gw\n",
    "        b = b - eta * gb\n",
    "        \n",
    "    return w, b"
   ]
  },
  {
   "cell_type": "code",
   "execution_count": null,
   "metadata": {},
   "outputs": [],
   "source": [
    "w,b = fit_svm(train_X_clean, train_y.as_matrix(), n_iter = 100, lam = 1)"
   ]
  },
  {
   "cell_type": "code",
   "execution_count": null,
   "metadata": {},
   "outputs": [],
   "source": [
    "fitted_value = np.rint(np.dot(train_X_clean, w) + b)\n",
    "\n",
    "score_SVM_gd = cross_val_score()\n",
    "post_part = np.vectorize(lambda u: 1 if u == 0 else 0)\n",
    "print(np.sum(post_part(fitted_value - train_y.as_matrix())) / train_y.shape[0])"
   ]
  },
  {
   "cell_type": "markdown",
   "metadata": {},
   "source": [
    "#### How did its performance compare to the above?\n",
    "### My thoughts\n",
    "#### 1.\n",
    "#### 2."
   ]
  },
  {
   "cell_type": "markdown",
   "metadata": {},
   "source": [
    "# Part III: Ensembles and Final Result\n",
    "\n",
    "## AdaBoost\n",
    "\n",
    "Train an AdaBoost classifier and compare its performance to results obtained in Part II using 10 fold CV."
   ]
  },
  {
   "cell_type": "markdown",
   "metadata": {},
   "source": [
    "#### Train an AdaBoost classifier"
   ]
  },
  {
   "cell_type": "code",
   "execution_count": null,
   "metadata": {},
   "outputs": [],
   "source": [
    "# Load libraries\n",
    "from sklearn.ensemble import AdaBoostClassifier\n",
    "from sklearn import datasets\n",
    "from sklearn import metrics\n",
    "\n",
    "abc = AdaBoostClassifier(n_estimators=50, learning_rate=1)\n",
    "\n",
    "abc_model = abc.fit(train_X_clean, train_y)"
   ]
  },
  {
   "cell_type": "markdown",
   "metadata": {},
   "source": [
    "#### Compare its performance to results obtained in Part II using 10 fold CV"
   ]
  },
  {
   "cell_type": "code",
   "execution_count": null,
   "metadata": {},
   "outputs": [],
   "source": [
    "scores_abc = cross_val_score(abc_model, train_X_clean, train_y, cv = 10, scoring = 'roc_auc')\n",
    "\n",
    "print(\"Mean of AdaBoost Scores:\", np.mean(scores_abc))"
   ]
  },
  {
   "cell_type": "markdown",
   "metadata": {},
   "source": [
    "### My thoughts:\n",
    "#### 1. The performance of AdaBoost classifier is better compared with the results "
   ]
  },
  {
   "cell_type": "markdown",
   "metadata": {},
   "source": [
    "## xgBoost\n",
    "\n",
    "Train an xgBoost classifier and compare its performance to results in Part II using 10 fold CV. `sklearn` has a gradient boosting model included http://scikit-learn.org/stable/modules/generated/sklearn.ensemble.GradientBoostingClassifier.html which you can use. The `xgboost` package https://xgboost.readthedocs.io/en/latest/python/python_intro.htmlhas a wrapper you can use with sklearn as well https://xgboost.readthedocs.io/en/latest/python/python_api.html#module-xgboost.sklearn. The latter is more efficient at training time."
   ]
  },
  {
   "cell_type": "markdown",
   "metadata": {},
   "source": [
    "#### Train an xgBoost classifier"
   ]
  },
  {
   "cell_type": "code",
   "execution_count": null,
   "metadata": {},
   "outputs": [],
   "source": [
    "from xgboost import XGBClassifier\n",
    "\n",
    "xgbc_model = XGBClassifier()\n",
    "xgbc_model.fit(train_X_clean, train_y.as_matrix())"
   ]
  },
  {
   "cell_type": "markdown",
   "metadata": {},
   "source": [
    "#### Compare its performance to results obtained in Part II using 10 fold CV"
   ]
  },
  {
   "cell_type": "code",
   "execution_count": null,
   "metadata": {},
   "outputs": [],
   "source": [
    "scores_xgbc = cross_val_score(xgbc_model, train_X_clean, train_y.as_matrix(), cv = 10, scoring = 'roc_auc')\n",
    "\n",
    "print(\"Mean of xbBoost Scores:\", np.mean(scores_xgbc))"
   ]
  },
  {
   "cell_type": "markdown",
   "metadata": {},
   "source": [
    "### My thoughts:\n",
    "#### 1. The performance of xgBoost classifier is better compared with the results "
   ]
  },
  {
   "cell_type": "markdown",
   "metadata": {},
   "source": [
    "## Stacking\n",
    "\n",
    "Choose a set of 5 or so classifiers. Write a function that trains an ensemble using stacking"
   ]
  },
  {
   "cell_type": "code",
   "execution_count": null,
   "metadata": {},
   "outputs": [],
   "source": [
    "def build_stack_ensemble(X, y):\n",
    "    \n",
    "    # create train/validation sets using StratifiedShuffleSplit\n",
    "    from sklearn.model_selection import StratifiedShuffleSplit\n",
    "    \n",
    "    split = StratifiedShuffleSplit(n_splits=1, test_size=0.2, random_state=1234)\n",
    "    \n",
    "    #combine X and y together before splitting???\n",
    "    for train_index, test_index in split.split(X):\n",
    "        train_set = X.loc[train_index]\n",
    "        test_set = X.loc[test_index]\n",
    "    \n",
    "    train_set[\"income_cat\"].value_counts() / len(train_set)\n",
    "    test_set[\"income_cat\"].value_counts() / len(test_set)\n",
    "    \n",
    "    # train classifiers in ensemble using train set\n",
    "    \n",
    "    # create new feature matrix for validation\n",
    "    # set by getting predictions from the ensemble\n",
    "    # classifiers\n",
    "    \n",
    "    # train logistic regression classifier on\n",
    "    # new feature matrix\n",
    "    \n",
    "    # return all trained classifiers\n",
    "    return None"
   ]
  },
  {
   "cell_type": "markdown",
   "metadata": {},
   "source": [
    "Use 10-fold cross validation to measure performance of your stacked classifier. See Part II solution to see how to roll your own sklearn classifier along with http://scikit-learn.org/stable/developers/contributing.html#rolling-your-own-estimator"
   ]
  },
  {
   "cell_type": "code",
   "execution_count": null,
   "metadata": {},
   "outputs": [],
   "source": []
  },
  {
   "cell_type": "markdown",
   "metadata": {},
   "source": [
    "## Final Result\n",
    "\n",
    "Choose a single model based on all previous project steps. Train this model on the complete training dataset and measure it's performance on the held out test set.\n",
    "\n",
    "Compare to the 10-fold CV estimate you got previously."
   ]
  },
  {
   "cell_type": "markdown",
   "metadata": {},
   "source": [
    "#### Perform data preprocessing on test set"
   ]
  },
  {
   "cell_type": "code",
   "execution_count": null,
   "metadata": {},
   "outputs": [],
   "source": [
    "clean_appt_df = test_set.copy()\n",
    "\n",
    "test_y = clean_appt_df['No-show']\n",
    "test_X = clean_appt_df[['Gender', 'Age', 'Scholarship', 'Hipertension', 'Diabetes', 'Alcoholism', 'Handcap', 'SMS_received', 'Seconds']]\n",
    "\n",
    "test_X_clean = full_pipeline.fit_transform(test_X)"
   ]
  },
  {
   "cell_type": "markdown",
   "metadata": {},
   "source": [
    "#### Train a model on the complete training dataset"
   ]
  },
  {
   "cell_type": "code",
   "execution_count": null,
   "metadata": {},
   "outputs": [],
   "source": [
    "train_X_clean\n",
    "train_y"
   ]
  },
  {
   "cell_type": "markdown",
   "metadata": {},
   "source": [
    "#### Measure the model's performance on the held out test set (AUC, accuracy, confusion matrix)"
   ]
  },
  {
   "cell_type": "markdown",
   "metadata": {},
   "source": [
    "#### Compare to the 10-fold CV estimate you got previously"
   ]
  }
 ],
 "metadata": {
  "kernelspec": {
   "display_name": "Python 3",
   "language": "python",
   "name": "python3"
  },
  "language_info": {
   "codemirror_mode": {
    "name": "ipython",
    "version": 3
   },
   "file_extension": ".py",
   "mimetype": "text/x-python",
   "name": "python",
   "nbconvert_exporter": "python",
   "pygments_lexer": "ipython3",
   "version": "3.6.5"
  }
 },
 "nbformat": 4,
 "nbformat_minor": 2
}
