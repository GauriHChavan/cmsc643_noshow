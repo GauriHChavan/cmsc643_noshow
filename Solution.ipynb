{
 "cells": [
  {
   "cell_type": "markdown",
   "metadata": {},
   "source": [
    "# Part I: Data Preparation\n",
    "\n",
    "## Read data from csv"
   ]
  },
  {
   "cell_type": "markdown",
   "metadata": {},
   "source": [
    "#### read data from csv (local)"
   ]
  },
  {
   "cell_type": "code",
   "execution_count": 1,
   "metadata": {},
   "outputs": [],
   "source": [
    "DATA_DIR = '/Users/Emma/Box Sync/Maryland/Courses/CMSC643 Machine Learning and Data Mining/Code/cmsc643_noshow/data'\n",
    "CSV_FILE = DATA_DIR + '/KaggleV2-May-2016'\n",
    "\n",
    "import pandas as pd\n",
    "\n",
    "# read data using read_csv function\n",
    "appt_df = pd.read_csv(str(CSV_FILE) + '.csv', dtype = {'PatientId': 'object', 'AppointmentID': 'object'})"
   ]
  },
  {
   "cell_type": "markdown",
   "metadata": {},
   "source": [
    "## Data cleanup\n",
    "\n",
    "- Cleanup column names\n",
    "- Remove records with erroneous entries (e.g., negative ages). Look at what people have done in Kaggle"
   ]
  },
  {
   "cell_type": "markdown",
   "metadata": {},
   "source": [
    "#### clean up column names (what do you mean by \"clean up column names\"?)"
   ]
  },
  {
   "cell_type": "code",
   "execution_count": 2,
   "metadata": {},
   "outputs": [
    {
     "data": {
      "text/html": [
       "<div>\n",
       "<style scoped>\n",
       "    .dataframe tbody tr th:only-of-type {\n",
       "        vertical-align: middle;\n",
       "    }\n",
       "\n",
       "    .dataframe tbody tr th {\n",
       "        vertical-align: top;\n",
       "    }\n",
       "\n",
       "    .dataframe thead th {\n",
       "        text-align: right;\n",
       "    }\n",
       "</style>\n",
       "<table border=\"1\" class=\"dataframe\">\n",
       "  <thead>\n",
       "    <tr style=\"text-align: right;\">\n",
       "      <th></th>\n",
       "      <th>PatientId</th>\n",
       "      <th>AppointmentID</th>\n",
       "      <th>Gender</th>\n",
       "      <th>ScheduledDay</th>\n",
       "      <th>AppointmentDay</th>\n",
       "      <th>Age</th>\n",
       "      <th>Neighbourhood</th>\n",
       "      <th>Scholarship</th>\n",
       "      <th>Hipertension</th>\n",
       "      <th>Diabetes</th>\n",
       "      <th>Alcoholism</th>\n",
       "      <th>Handcap</th>\n",
       "      <th>SMS_received</th>\n",
       "      <th>No-show</th>\n",
       "    </tr>\n",
       "  </thead>\n",
       "  <tbody>\n",
       "    <tr>\n",
       "      <th>0</th>\n",
       "      <td>29872499824296</td>\n",
       "      <td>5642903</td>\n",
       "      <td>F</td>\n",
       "      <td>2016-04-29T18:38:08Z</td>\n",
       "      <td>2016-04-29T00:00:00Z</td>\n",
       "      <td>62</td>\n",
       "      <td>JARDIM DA PENHA</td>\n",
       "      <td>0</td>\n",
       "      <td>1</td>\n",
       "      <td>0</td>\n",
       "      <td>0</td>\n",
       "      <td>0</td>\n",
       "      <td>0</td>\n",
       "      <td>No</td>\n",
       "    </tr>\n",
       "    <tr>\n",
       "      <th>1</th>\n",
       "      <td>558997776694438</td>\n",
       "      <td>5642503</td>\n",
       "      <td>M</td>\n",
       "      <td>2016-04-29T16:08:27Z</td>\n",
       "      <td>2016-04-29T00:00:00Z</td>\n",
       "      <td>56</td>\n",
       "      <td>JARDIM DA PENHA</td>\n",
       "      <td>0</td>\n",
       "      <td>0</td>\n",
       "      <td>0</td>\n",
       "      <td>0</td>\n",
       "      <td>0</td>\n",
       "      <td>0</td>\n",
       "      <td>No</td>\n",
       "    </tr>\n",
       "    <tr>\n",
       "      <th>2</th>\n",
       "      <td>4262962299951</td>\n",
       "      <td>5642549</td>\n",
       "      <td>F</td>\n",
       "      <td>2016-04-29T16:19:04Z</td>\n",
       "      <td>2016-04-29T00:00:00Z</td>\n",
       "      <td>62</td>\n",
       "      <td>MATA DA PRAIA</td>\n",
       "      <td>0</td>\n",
       "      <td>0</td>\n",
       "      <td>0</td>\n",
       "      <td>0</td>\n",
       "      <td>0</td>\n",
       "      <td>0</td>\n",
       "      <td>No</td>\n",
       "    </tr>\n",
       "    <tr>\n",
       "      <th>3</th>\n",
       "      <td>867951213174</td>\n",
       "      <td>5642828</td>\n",
       "      <td>F</td>\n",
       "      <td>2016-04-29T17:29:31Z</td>\n",
       "      <td>2016-04-29T00:00:00Z</td>\n",
       "      <td>8</td>\n",
       "      <td>PONTAL DE CAMBURI</td>\n",
       "      <td>0</td>\n",
       "      <td>0</td>\n",
       "      <td>0</td>\n",
       "      <td>0</td>\n",
       "      <td>0</td>\n",
       "      <td>0</td>\n",
       "      <td>No</td>\n",
       "    </tr>\n",
       "    <tr>\n",
       "      <th>4</th>\n",
       "      <td>8841186448183</td>\n",
       "      <td>5642494</td>\n",
       "      <td>F</td>\n",
       "      <td>2016-04-29T16:07:23Z</td>\n",
       "      <td>2016-04-29T00:00:00Z</td>\n",
       "      <td>56</td>\n",
       "      <td>JARDIM DA PENHA</td>\n",
       "      <td>0</td>\n",
       "      <td>1</td>\n",
       "      <td>1</td>\n",
       "      <td>0</td>\n",
       "      <td>0</td>\n",
       "      <td>0</td>\n",
       "      <td>No</td>\n",
       "    </tr>\n",
       "  </tbody>\n",
       "</table>\n",
       "</div>"
      ],
      "text/plain": [
       "         PatientId AppointmentID Gender          ScheduledDay  \\\n",
       "0   29872499824296       5642903      F  2016-04-29T18:38:08Z   \n",
       "1  558997776694438       5642503      M  2016-04-29T16:08:27Z   \n",
       "2    4262962299951       5642549      F  2016-04-29T16:19:04Z   \n",
       "3     867951213174       5642828      F  2016-04-29T17:29:31Z   \n",
       "4    8841186448183       5642494      F  2016-04-29T16:07:23Z   \n",
       "\n",
       "         AppointmentDay  Age      Neighbourhood  Scholarship  Hipertension  \\\n",
       "0  2016-04-29T00:00:00Z   62    JARDIM DA PENHA            0             1   \n",
       "1  2016-04-29T00:00:00Z   56    JARDIM DA PENHA            0             0   \n",
       "2  2016-04-29T00:00:00Z   62      MATA DA PRAIA            0             0   \n",
       "3  2016-04-29T00:00:00Z    8  PONTAL DE CAMBURI            0             0   \n",
       "4  2016-04-29T00:00:00Z   56    JARDIM DA PENHA            0             1   \n",
       "\n",
       "   Diabetes  Alcoholism  Handcap  SMS_received No-show  \n",
       "0         0           0        0             0      No  \n",
       "1         0           0        0             0      No  \n",
       "2         0           0        0             0      No  \n",
       "3         0           0        0             0      No  \n",
       "4         1           0        0             0      No  "
      ]
     },
     "execution_count": 2,
     "metadata": {},
     "output_type": "execute_result"
    }
   ],
   "source": [
    "# highly recommend that you rename dataset e.g., if you used appt_df = pd.read_csv(...) above first thing to do here is clean_appt_df = appt_df\n",
    "\n",
    "clean_appt_df = appt_df\n",
    "clean_appt_df.head()"
   ]
  },
  {
   "cell_type": "code",
   "execution_count": 3,
   "metadata": {},
   "outputs": [
    {
     "name": "stdout",
     "output_type": "stream",
     "text": [
      "<class 'pandas.core.frame.DataFrame'>\n",
      "RangeIndex: 110527 entries, 0 to 110526\n",
      "Data columns (total 14 columns):\n",
      "PatientId         110527 non-null object\n",
      "AppointmentID     110527 non-null object\n",
      "Gender            110527 non-null object\n",
      "ScheduledDay      110527 non-null object\n",
      "AppointmentDay    110527 non-null object\n",
      "Age               110527 non-null int64\n",
      "Neighbourhood     110527 non-null object\n",
      "Scholarship       110527 non-null int64\n",
      "Hipertension      110527 non-null int64\n",
      "Diabetes          110527 non-null int64\n",
      "Alcoholism        110527 non-null int64\n",
      "Handcap           110527 non-null int64\n",
      "SMS_received      110527 non-null int64\n",
      "No-show           110527 non-null object\n",
      "dtypes: int64(7), object(7)\n",
      "memory usage: 11.8+ MB\n"
     ]
    }
   ],
   "source": [
    "clean_appt_df.info()"
   ]
  },
  {
   "cell_type": "code",
   "execution_count": 4,
   "metadata": {},
   "outputs": [
    {
     "data": {
      "text/plain": [
       "(110527, 14)"
      ]
     },
     "execution_count": 4,
     "metadata": {},
     "output_type": "execute_result"
    }
   ],
   "source": [
    "clean_appt_df.shape"
   ]
  },
  {
   "cell_type": "markdown",
   "metadata": {},
   "source": [
    "#### remove records with erroneous entries"
   ]
  },
  {
   "cell_type": "code",
   "execution_count": 5,
   "metadata": {},
   "outputs": [],
   "source": [
    "# remove entries with Age < 0\n",
    "clean_appt_df = clean_appt_df[clean_appt_df['Age'] > 0]"
   ]
  },
  {
   "cell_type": "code",
   "execution_count": 6,
   "metadata": {},
   "outputs": [],
   "source": [
    "# remove entries with missing values\n",
    "clean_appt_df = clean_appt_df.dropna(how = 'any')"
   ]
  },
  {
   "cell_type": "code",
   "execution_count": 7,
   "metadata": {},
   "outputs": [],
   "source": [
    "# remove entries with na values\n",
    "clean_appt_df = clean_appt_df.dropna(axis = 0)"
   ]
  },
  {
   "cell_type": "code",
   "execution_count": 8,
   "metadata": {},
   "outputs": [
    {
     "data": {
      "text/plain": [
       "F    70118\n",
       "M    36869\n",
       "Name: Gender, dtype: int64"
      ]
     },
     "execution_count": 8,
     "metadata": {},
     "output_type": "execute_result"
    }
   ],
   "source": [
    "# count gender values\n",
    "clean_appt_df.Gender.value_counts()"
   ]
  },
  {
   "cell_type": "code",
   "execution_count": 9,
   "metadata": {},
   "outputs": [
    {
     "data": {
      "text/plain": [
       "(106987, 14)"
      ]
     },
     "execution_count": 9,
     "metadata": {},
     "output_type": "execute_result"
    }
   ],
   "source": [
    "clean_appt_df.shape"
   ]
  },
  {
   "cell_type": "code",
   "execution_count": 10,
   "metadata": {},
   "outputs": [],
   "source": [
    "import numpy as np\n",
    "\n",
    "# reassign values to gender: Male 0 Female 1\n",
    "clean_appt_df['Gender'] = np.where(clean_appt_df['Gender'] == \"M\", 0, 1)"
   ]
  },
  {
   "cell_type": "code",
   "execution_count": 11,
   "metadata": {},
   "outputs": [
    {
     "data": {
      "text/plain": [
       "1    70118\n",
       "0    36869\n",
       "Name: Gender, dtype: int64"
      ]
     },
     "execution_count": 11,
     "metadata": {},
     "output_type": "execute_result"
    }
   ],
   "source": [
    "# count gender values\n",
    "clean_appt_df.Gender.value_counts()"
   ]
  },
  {
   "cell_type": "code",
   "execution_count": 12,
   "metadata": {},
   "outputs": [
    {
     "data": {
      "text/plain": [
       "No     85307\n",
       "Yes    21680\n",
       "Name: No-show, dtype: int64"
      ]
     },
     "execution_count": 12,
     "metadata": {},
     "output_type": "execute_result"
    }
   ],
   "source": [
    "# count No-show values\n",
    "clean_appt_df['No-show'].value_counts()"
   ]
  },
  {
   "cell_type": "code",
   "execution_count": 13,
   "metadata": {},
   "outputs": [],
   "source": [
    "# reassgin values to no-show: show 1, noshow -1\n",
    "clean_appt_df['No-show'] = np.where(clean_appt_df['No-show'] == 'No', -1, 1)"
   ]
  },
  {
   "cell_type": "code",
   "execution_count": 14,
   "metadata": {},
   "outputs": [
    {
     "data": {
      "text/plain": [
       "-1    85307\n",
       " 1    21680\n",
       "Name: No-show, dtype: int64"
      ]
     },
     "execution_count": 14,
     "metadata": {},
     "output_type": "execute_result"
    }
   ],
   "source": [
    "# count No-show values\n",
    "clean_appt_df['No-show'].value_counts()"
   ]
  },
  {
   "cell_type": "code",
   "execution_count": 15,
   "metadata": {},
   "outputs": [
    {
     "data": {
      "text/plain": [
       "0    104747\n",
       "1      2041\n",
       "2       183\n",
       "3        13\n",
       "4         3\n",
       "Name: Handcap, dtype: int64"
      ]
     },
     "execution_count": 15,
     "metadata": {},
     "output_type": "execute_result"
    }
   ],
   "source": [
    "# count Handcap values\n",
    "clean_appt_df.Handcap.value_counts()"
   ]
  },
  {
   "cell_type": "code",
   "execution_count": 16,
   "metadata": {},
   "outputs": [],
   "source": [
    "# remove entries with Handcap value >1 as it should be binary\n",
    "clean_appt_df = clean_appt_df[clean_appt_df['Handcap'] <= 1]"
   ]
  },
  {
   "cell_type": "code",
   "execution_count": 17,
   "metadata": {},
   "outputs": [
    {
     "data": {
      "text/plain": [
       "0    104747\n",
       "1      2041\n",
       "Name: Handcap, dtype: int64"
      ]
     },
     "execution_count": 17,
     "metadata": {},
     "output_type": "execute_result"
    }
   ],
   "source": [
    "# count handcap value\n",
    "clean_appt_df.Handcap.value_counts()"
   ]
  },
  {
   "cell_type": "code",
   "execution_count": 18,
   "metadata": {},
   "outputs": [
    {
     "data": {
      "text/html": [
       "<div>\n",
       "<style scoped>\n",
       "    .dataframe tbody tr th:only-of-type {\n",
       "        vertical-align: middle;\n",
       "    }\n",
       "\n",
       "    .dataframe tbody tr th {\n",
       "        vertical-align: top;\n",
       "    }\n",
       "\n",
       "    .dataframe thead th {\n",
       "        text-align: right;\n",
       "    }\n",
       "</style>\n",
       "<table border=\"1\" class=\"dataframe\">\n",
       "  <thead>\n",
       "    <tr style=\"text-align: right;\">\n",
       "      <th></th>\n",
       "      <th>PatientId</th>\n",
       "      <th>AppointmentID</th>\n",
       "      <th>Gender</th>\n",
       "      <th>ScheduledDay</th>\n",
       "      <th>AppointmentDay</th>\n",
       "      <th>Age</th>\n",
       "      <th>Neighbourhood</th>\n",
       "      <th>Scholarship</th>\n",
       "      <th>Hipertension</th>\n",
       "      <th>Diabetes</th>\n",
       "      <th>Alcoholism</th>\n",
       "      <th>Handcap</th>\n",
       "      <th>SMS_received</th>\n",
       "      <th>No-show</th>\n",
       "    </tr>\n",
       "  </thead>\n",
       "  <tbody>\n",
       "    <tr>\n",
       "      <th>0</th>\n",
       "      <td>29872499824296</td>\n",
       "      <td>5642903</td>\n",
       "      <td>1</td>\n",
       "      <td>2016-04-29T18:38:08Z</td>\n",
       "      <td>2016-04-29T00:00:00Z</td>\n",
       "      <td>62</td>\n",
       "      <td>JARDIM DA PENHA</td>\n",
       "      <td>0</td>\n",
       "      <td>1</td>\n",
       "      <td>0</td>\n",
       "      <td>0</td>\n",
       "      <td>0</td>\n",
       "      <td>0</td>\n",
       "      <td>-1</td>\n",
       "    </tr>\n",
       "    <tr>\n",
       "      <th>1</th>\n",
       "      <td>558997776694438</td>\n",
       "      <td>5642503</td>\n",
       "      <td>0</td>\n",
       "      <td>2016-04-29T16:08:27Z</td>\n",
       "      <td>2016-04-29T00:00:00Z</td>\n",
       "      <td>56</td>\n",
       "      <td>JARDIM DA PENHA</td>\n",
       "      <td>0</td>\n",
       "      <td>0</td>\n",
       "      <td>0</td>\n",
       "      <td>0</td>\n",
       "      <td>0</td>\n",
       "      <td>0</td>\n",
       "      <td>-1</td>\n",
       "    </tr>\n",
       "    <tr>\n",
       "      <th>2</th>\n",
       "      <td>4262962299951</td>\n",
       "      <td>5642549</td>\n",
       "      <td>1</td>\n",
       "      <td>2016-04-29T16:19:04Z</td>\n",
       "      <td>2016-04-29T00:00:00Z</td>\n",
       "      <td>62</td>\n",
       "      <td>MATA DA PRAIA</td>\n",
       "      <td>0</td>\n",
       "      <td>0</td>\n",
       "      <td>0</td>\n",
       "      <td>0</td>\n",
       "      <td>0</td>\n",
       "      <td>0</td>\n",
       "      <td>-1</td>\n",
       "    </tr>\n",
       "    <tr>\n",
       "      <th>3</th>\n",
       "      <td>867951213174</td>\n",
       "      <td>5642828</td>\n",
       "      <td>1</td>\n",
       "      <td>2016-04-29T17:29:31Z</td>\n",
       "      <td>2016-04-29T00:00:00Z</td>\n",
       "      <td>8</td>\n",
       "      <td>PONTAL DE CAMBURI</td>\n",
       "      <td>0</td>\n",
       "      <td>0</td>\n",
       "      <td>0</td>\n",
       "      <td>0</td>\n",
       "      <td>0</td>\n",
       "      <td>0</td>\n",
       "      <td>-1</td>\n",
       "    </tr>\n",
       "    <tr>\n",
       "      <th>4</th>\n",
       "      <td>8841186448183</td>\n",
       "      <td>5642494</td>\n",
       "      <td>1</td>\n",
       "      <td>2016-04-29T16:07:23Z</td>\n",
       "      <td>2016-04-29T00:00:00Z</td>\n",
       "      <td>56</td>\n",
       "      <td>JARDIM DA PENHA</td>\n",
       "      <td>0</td>\n",
       "      <td>1</td>\n",
       "      <td>1</td>\n",
       "      <td>0</td>\n",
       "      <td>0</td>\n",
       "      <td>0</td>\n",
       "      <td>-1</td>\n",
       "    </tr>\n",
       "  </tbody>\n",
       "</table>\n",
       "</div>"
      ],
      "text/plain": [
       "         PatientId AppointmentID  Gender          ScheduledDay  \\\n",
       "0   29872499824296       5642903       1  2016-04-29T18:38:08Z   \n",
       "1  558997776694438       5642503       0  2016-04-29T16:08:27Z   \n",
       "2    4262962299951       5642549       1  2016-04-29T16:19:04Z   \n",
       "3     867951213174       5642828       1  2016-04-29T17:29:31Z   \n",
       "4    8841186448183       5642494       1  2016-04-29T16:07:23Z   \n",
       "\n",
       "         AppointmentDay  Age      Neighbourhood  Scholarship  Hipertension  \\\n",
       "0  2016-04-29T00:00:00Z   62    JARDIM DA PENHA            0             1   \n",
       "1  2016-04-29T00:00:00Z   56    JARDIM DA PENHA            0             0   \n",
       "2  2016-04-29T00:00:00Z   62      MATA DA PRAIA            0             0   \n",
       "3  2016-04-29T00:00:00Z    8  PONTAL DE CAMBURI            0             0   \n",
       "4  2016-04-29T00:00:00Z   56    JARDIM DA PENHA            0             1   \n",
       "\n",
       "   Diabetes  Alcoholism  Handcap  SMS_received  No-show  \n",
       "0         0           0        0             0       -1  \n",
       "1         0           0        0             0       -1  \n",
       "2         0           0        0             0       -1  \n",
       "3         0           0        0             0       -1  \n",
       "4         1           0        0             0       -1  "
      ]
     },
     "execution_count": 18,
     "metadata": {},
     "output_type": "execute_result"
    }
   ],
   "source": [
    "# take a look at the cleansed data set\n",
    "clean_appt_df.head()"
   ]
  },
  {
   "cell_type": "code",
   "execution_count": 19,
   "metadata": {},
   "outputs": [
    {
     "data": {
      "text/plain": [
       "(106788, 14)"
      ]
     },
     "execution_count": 19,
     "metadata": {},
     "output_type": "execute_result"
    }
   ],
   "source": [
    "clean_appt_df.shape"
   ]
  },
  {
   "cell_type": "code",
   "execution_count": 20,
   "metadata": {},
   "outputs": [],
   "source": [
    "# change into categorical variable\n",
    "for col in ['Gender', 'Scholarship', 'Hipertension', 'Diabetes', 'Alcoholism', 'Handcap', 'SMS_received', 'No-show']:\n",
    "    clean_appt_df[col] = clean_appt_df[col].astype('category')"
   ]
  },
  {
   "cell_type": "code",
   "execution_count": 21,
   "metadata": {},
   "outputs": [
    {
     "name": "stdout",
     "output_type": "stream",
     "text": [
      "<class 'pandas.core.frame.DataFrame'>\n",
      "Int64Index: 106788 entries, 0 to 110526\n",
      "Data columns (total 14 columns):\n",
      "PatientId         106788 non-null object\n",
      "AppointmentID     106788 non-null object\n",
      "Gender            106788 non-null category\n",
      "ScheduledDay      106788 non-null object\n",
      "AppointmentDay    106788 non-null object\n",
      "Age               106788 non-null int64\n",
      "Neighbourhood     106788 non-null object\n",
      "Scholarship       106788 non-null category\n",
      "Hipertension      106788 non-null category\n",
      "Diabetes          106788 non-null category\n",
      "Alcoholism        106788 non-null category\n",
      "Handcap           106788 non-null category\n",
      "SMS_received      106788 non-null category\n",
      "No-show           106788 non-null category\n",
      "dtypes: category(8), int64(1), object(5)\n",
      "memory usage: 6.5+ MB\n"
     ]
    }
   ],
   "source": [
    "clean_appt_df.info()"
   ]
  },
  {
   "cell_type": "code",
   "execution_count": 22,
   "metadata": {},
   "outputs": [],
   "source": [
    "# convert time to string\n",
    "clean_appt_df['ScheduledDay'] = clean_appt_df['ScheduledDay'].astype('str').map(lambda x: x.rstrip('Z').replace('T', ' '))\n",
    "clean_appt_df['AppointmentDay'] = clean_appt_df['AppointmentDay'].astype('str').map(lambda x: x.rstrip('Z').replace('T', ' '))"
   ]
  },
  {
   "cell_type": "code",
   "execution_count": 23,
   "metadata": {},
   "outputs": [],
   "source": [
    "# take time interval\n",
    "clean_appt_df['ScheduledDay'] = pd.to_datetime(clean_appt_df['ScheduledDay'], format='%Y%m%d %H:%M:%S',  errors='raise')\n",
    "clean_appt_df['AppointmentDay'] = pd.to_datetime(clean_appt_df['AppointmentDay'], format='%Y%m%d %H:%M:%S',  errors='raise')"
   ]
  },
  {
   "cell_type": "code",
   "execution_count": 24,
   "metadata": {},
   "outputs": [],
   "source": [
    "import datetime as dt\n",
    "\n",
    "# calculate time difference of AppointmentDay and ScheduledDay in seconds \n",
    "clean_appt_df['Tdelta'] = clean_appt_df['AppointmentDay'] - clean_appt_df['ScheduledDay']\n",
    "clean_appt_df['Seconds'] = clean_appt_df['Tdelta'].dt.total_seconds()"
   ]
  },
  {
   "cell_type": "code",
   "execution_count": 25,
   "metadata": {},
   "outputs": [],
   "source": [
    "# remove entries with negative time difference\n",
    "clean_appt_df = clean_appt_df[clean_appt_df['Seconds'] >= 0]"
   ]
  },
  {
   "cell_type": "code",
   "execution_count": 26,
   "metadata": {},
   "outputs": [],
   "source": [
    "# remove ids\n",
    "clean_appt_df = clean_appt_df[['Gender', 'Age', 'Scholarship', 'Hipertension', 'Diabetes', 'Alcoholism', 'Handcap', 'SMS_received', 'No-show', 'Seconds']]"
   ]
  },
  {
   "cell_type": "code",
   "execution_count": 27,
   "metadata": {},
   "outputs": [
    {
     "data": {
      "text/html": [
       "<div>\n",
       "<style scoped>\n",
       "    .dataframe tbody tr th:only-of-type {\n",
       "        vertical-align: middle;\n",
       "    }\n",
       "\n",
       "    .dataframe tbody tr th {\n",
       "        vertical-align: top;\n",
       "    }\n",
       "\n",
       "    .dataframe thead th {\n",
       "        text-align: right;\n",
       "    }\n",
       "</style>\n",
       "<table border=\"1\" class=\"dataframe\">\n",
       "  <thead>\n",
       "    <tr style=\"text-align: right;\">\n",
       "      <th></th>\n",
       "      <th>Gender</th>\n",
       "      <th>Age</th>\n",
       "      <th>Scholarship</th>\n",
       "      <th>Hipertension</th>\n",
       "      <th>Diabetes</th>\n",
       "      <th>Alcoholism</th>\n",
       "      <th>Handcap</th>\n",
       "      <th>SMS_received</th>\n",
       "      <th>No-show</th>\n",
       "      <th>Seconds</th>\n",
       "    </tr>\n",
       "  </thead>\n",
       "  <tbody>\n",
       "    <tr>\n",
       "      <th>5</th>\n",
       "      <td>1</td>\n",
       "      <td>76</td>\n",
       "      <td>0</td>\n",
       "      <td>1</td>\n",
       "      <td>0</td>\n",
       "      <td>0</td>\n",
       "      <td>0</td>\n",
       "      <td>0</td>\n",
       "      <td>-1</td>\n",
       "      <td>141789.0</td>\n",
       "    </tr>\n",
       "    <tr>\n",
       "      <th>6</th>\n",
       "      <td>1</td>\n",
       "      <td>23</td>\n",
       "      <td>0</td>\n",
       "      <td>0</td>\n",
       "      <td>0</td>\n",
       "      <td>0</td>\n",
       "      <td>0</td>\n",
       "      <td>0</td>\n",
       "      <td>1</td>\n",
       "      <td>118488.0</td>\n",
       "    </tr>\n",
       "    <tr>\n",
       "      <th>7</th>\n",
       "      <td>1</td>\n",
       "      <td>39</td>\n",
       "      <td>0</td>\n",
       "      <td>0</td>\n",
       "      <td>0</td>\n",
       "      <td>0</td>\n",
       "      <td>0</td>\n",
       "      <td>0</td>\n",
       "      <td>1</td>\n",
       "      <td>116402.0</td>\n",
       "    </tr>\n",
       "    <tr>\n",
       "      <th>9</th>\n",
       "      <td>1</td>\n",
       "      <td>19</td>\n",
       "      <td>0</td>\n",
       "      <td>0</td>\n",
       "      <td>0</td>\n",
       "      <td>0</td>\n",
       "      <td>0</td>\n",
       "      <td>0</td>\n",
       "      <td>-1</td>\n",
       "      <td>126695.0</td>\n",
       "    </tr>\n",
       "    <tr>\n",
       "      <th>10</th>\n",
       "      <td>1</td>\n",
       "      <td>30</td>\n",
       "      <td>0</td>\n",
       "      <td>0</td>\n",
       "      <td>0</td>\n",
       "      <td>0</td>\n",
       "      <td>0</td>\n",
       "      <td>0</td>\n",
       "      <td>-1</td>\n",
       "      <td>118909.0</td>\n",
       "    </tr>\n",
       "  </tbody>\n",
       "</table>\n",
       "</div>"
      ],
      "text/plain": [
       "   Gender  Age Scholarship Hipertension Diabetes Alcoholism Handcap  \\\n",
       "5       1   76           0            1        0          0       0   \n",
       "6       1   23           0            0        0          0       0   \n",
       "7       1   39           0            0        0          0       0   \n",
       "9       1   19           0            0        0          0       0   \n",
       "10      1   30           0            0        0          0       0   \n",
       "\n",
       "   SMS_received No-show   Seconds  \n",
       "5             0      -1  141789.0  \n",
       "6             0       1  118488.0  \n",
       "7             0       1  116402.0  \n",
       "9             0      -1  126695.0  \n",
       "10            0      -1  118909.0  "
      ]
     },
     "execution_count": 27,
     "metadata": {},
     "output_type": "execute_result"
    }
   ],
   "source": [
    "clean_appt_df.head()"
   ]
  },
  {
   "cell_type": "code",
   "execution_count": 28,
   "metadata": {},
   "outputs": [
    {
     "data": {
      "text/plain": [
       "(69706, 10)"
      ]
     },
     "execution_count": 28,
     "metadata": {},
     "output_type": "execute_result"
    }
   ],
   "source": [
    "clean_appt_df.shape"
   ]
  },
  {
   "cell_type": "markdown",
   "metadata": {},
   "source": [
    "## Test set creation\n",
    "\n",
    "- Create a test set of 20k records\n",
    "- Use stratified sampling on the `No-Show` variable to make sure class proportions are the same for train and test sets\n",
    "- Save train and test sets as csv files in the `processed_data` directory"
   ]
  },
  {
   "cell_type": "markdown",
   "metadata": {},
   "source": [
    "#### create a test set of 20k records"
   ]
  },
  {
   "cell_type": "code",
   "execution_count": 29,
   "metadata": {},
   "outputs": [
    {
     "data": {
      "text/plain": [
       "-1    0.714558\n",
       " 1    0.285442\n",
       "Name: No-show, dtype: float64"
      ]
     },
     "execution_count": 29,
     "metadata": {},
     "output_type": "execute_result"
    }
   ],
   "source": [
    "PROCESSED_DATA_DIR = '/Users/Emma/Box Sync/Maryland/Courses/CMSC643 Machine Learning and Data Mining/Code/cmsc643_noshow/processed_data'\n",
    "\n",
    "# create test set with stratified sampling here\n",
    "# refer to the intro notebook posted in class calendar for example\n",
    "\n",
    "# use No-show to make sure class proportions are the same for train and test sets\n",
    "clean_appt_df['No-show'].value_counts() / len(clean_appt_df)"
   ]
  },
  {
   "cell_type": "code",
   "execution_count": 30,
   "metadata": {},
   "outputs": [],
   "source": [
    "from sklearn.model_selection import StratifiedShuffleSplit\n",
    "\n",
    "split = StratifiedShuffleSplit(n_splits=1, test_size=20000, random_state=1234)\n",
    "\n",
    "X = clean_appt_df.drop(columns = ['No-show']).values\n",
    "y = clean_appt_df[\"No-show\"].values\n",
    "\n",
    "for train_index, test_index in split.split(X, y):\n",
    "    train_X = X[train_index, :]\n",
    "    test_X = X[test_index, :]\n",
    "    train_y = y[train_index]\n",
    "    test_y = y[test_index]"
   ]
  },
  {
   "cell_type": "code",
   "execution_count": 31,
   "metadata": {},
   "outputs": [
    {
     "data": {
      "text/plain": [
       "(49706, 9)"
      ]
     },
     "execution_count": 31,
     "metadata": {},
     "output_type": "execute_result"
    }
   ],
   "source": [
    "train_X.shape"
   ]
  },
  {
   "cell_type": "code",
   "execution_count": 32,
   "metadata": {},
   "outputs": [
    {
     "data": {
      "text/plain": [
       "(20000, 9)"
      ]
     },
     "execution_count": 32,
     "metadata": {},
     "output_type": "execute_result"
    }
   ],
   "source": [
    "test_X.shape"
   ]
  },
  {
   "cell_type": "code",
   "execution_count": 33,
   "metadata": {},
   "outputs": [
    {
     "data": {
      "text/plain": [
       "(49706,)"
      ]
     },
     "execution_count": 33,
     "metadata": {},
     "output_type": "execute_result"
    }
   ],
   "source": [
    "train_y.shape"
   ]
  },
  {
   "cell_type": "code",
   "execution_count": 34,
   "metadata": {},
   "outputs": [
    {
     "data": {
      "text/plain": [
       "(20000,)"
      ]
     },
     "execution_count": 34,
     "metadata": {},
     "output_type": "execute_result"
    }
   ],
   "source": [
    "test_y.shape"
   ]
  },
  {
   "cell_type": "markdown",
   "metadata": {},
   "source": [
    "#### make sure class proportions are the same for train and test sets"
   ]
  },
  {
   "cell_type": "code",
   "execution_count": 35,
   "metadata": {},
   "outputs": [
    {
     "data": {
      "text/plain": [
       "-1    0.714562\n",
       " 1    0.285438\n",
       "dtype: float64"
      ]
     },
     "execution_count": 35,
     "metadata": {},
     "output_type": "execute_result"
    }
   ],
   "source": [
    "train_y.value_counts() / len(train_y)"
   ]
  },
  {
   "cell_type": "code",
   "execution_count": 36,
   "metadata": {},
   "outputs": [
    {
     "data": {
      "text/plain": [
       "-1    0.71455\n",
       " 1    0.28545\n",
       "dtype: float64"
      ]
     },
     "execution_count": 36,
     "metadata": {},
     "output_type": "execute_result"
    }
   ],
   "source": [
    "test_y.value_counts() / len(test_y)"
   ]
  },
  {
   "cell_type": "markdown",
   "metadata": {},
   "source": [
    "#### save train and test sets as csv files in the processed_data directory"
   ]
  },
  {
   "cell_type": "code",
   "execution_count": 37,
   "metadata": {},
   "outputs": [],
   "source": [
    "train_y = train_y.astype(int)\n",
    "test_y = test_y.astype(int)"
   ]
  },
  {
   "cell_type": "code",
   "execution_count": 38,
   "metadata": {},
   "outputs": [],
   "source": [
    "output_train_X = PROCESSED_DATA_DIR + '/train_X.csv'\n",
    "output_train_y = PROCESSED_DATA_DIR + '/train_y.csv'\n",
    "output_test_X = PROCESSED_DATA_DIR + '/test_X.csv'\n",
    "output_test_y = PROCESSED_DATA_DIR + '/test_y.csv'"
   ]
  },
  {
   "cell_type": "code",
   "execution_count": 39,
   "metadata": {},
   "outputs": [],
   "source": [
    "np.savetxt(output_train_X, train_X, delimiter=',')\n",
    "np.savetxt(output_train_y, train_y, delimiter=',')\n",
    "np.savetxt(output_test_X, test_X, delimiter=',')\n",
    "np.savetxt(output_test_y, test_y, delimiter=',')"
   ]
  },
  {
   "cell_type": "markdown",
   "metadata": {},
   "source": [
    "## Exploratory Data Analysis\n",
    "\n",
    "Plot the `No-show` variable against other variables. Remember from this point forward you are only using the training set created in the previous step"
   ]
  },
  {
   "cell_type": "markdown",
   "metadata": {},
   "source": [
    "#### make copy of train set"
   ]
  },
  {
   "cell_type": "code",
   "execution_count": 40,
   "metadata": {},
   "outputs": [],
   "source": [
    "train_X_df = pd.DataFrame(train_X, columns = ['Gender', 'Age', 'Scholarship', 'Hipertension', 'Diabetes', 'Alcoholism', 'Handcap', 'SMS_received', 'Seconds'])"
   ]
  },
  {
   "cell_type": "code",
   "execution_count": 41,
   "metadata": {},
   "outputs": [],
   "source": [
    "train_y_df = pd.DataFrame(train_y, columns=['No-show'])"
   ]
  },
  {
   "cell_type": "code",
   "execution_count": 42,
   "metadata": {},
   "outputs": [],
   "source": [
    "clean_appt_df = pd.concat([train_X_df, train_y_df], axis=1, sort=False)"
   ]
  },
  {
   "cell_type": "code",
   "execution_count": 43,
   "metadata": {},
   "outputs": [
    {
     "data": {
      "text/html": [
       "<div>\n",
       "<style scoped>\n",
       "    .dataframe tbody tr th:only-of-type {\n",
       "        vertical-align: middle;\n",
       "    }\n",
       "\n",
       "    .dataframe tbody tr th {\n",
       "        vertical-align: top;\n",
       "    }\n",
       "\n",
       "    .dataframe thead th {\n",
       "        text-align: right;\n",
       "    }\n",
       "</style>\n",
       "<table border=\"1\" class=\"dataframe\">\n",
       "  <thead>\n",
       "    <tr style=\"text-align: right;\">\n",
       "      <th></th>\n",
       "      <th>Gender</th>\n",
       "      <th>Age</th>\n",
       "      <th>Scholarship</th>\n",
       "      <th>Hipertension</th>\n",
       "      <th>Diabetes</th>\n",
       "      <th>Alcoholism</th>\n",
       "      <th>Handcap</th>\n",
       "      <th>SMS_received</th>\n",
       "      <th>Seconds</th>\n",
       "      <th>No-show</th>\n",
       "    </tr>\n",
       "  </thead>\n",
       "  <tbody>\n",
       "    <tr>\n",
       "      <th>0</th>\n",
       "      <td>0</td>\n",
       "      <td>29</td>\n",
       "      <td>0</td>\n",
       "      <td>0</td>\n",
       "      <td>0</td>\n",
       "      <td>0</td>\n",
       "      <td>0</td>\n",
       "      <td>0</td>\n",
       "      <td>2.29551e+06</td>\n",
       "      <td>1</td>\n",
       "    </tr>\n",
       "    <tr>\n",
       "      <th>1</th>\n",
       "      <td>1</td>\n",
       "      <td>72</td>\n",
       "      <td>0</td>\n",
       "      <td>1</td>\n",
       "      <td>1</td>\n",
       "      <td>0</td>\n",
       "      <td>0</td>\n",
       "      <td>0</td>\n",
       "      <td>145830</td>\n",
       "      <td>1</td>\n",
       "    </tr>\n",
       "    <tr>\n",
       "      <th>2</th>\n",
       "      <td>0</td>\n",
       "      <td>36</td>\n",
       "      <td>0</td>\n",
       "      <td>0</td>\n",
       "      <td>0</td>\n",
       "      <td>0</td>\n",
       "      <td>0</td>\n",
       "      <td>1</td>\n",
       "      <td>389377</td>\n",
       "      <td>-1</td>\n",
       "    </tr>\n",
       "    <tr>\n",
       "      <th>3</th>\n",
       "      <td>1</td>\n",
       "      <td>56</td>\n",
       "      <td>0</td>\n",
       "      <td>1</td>\n",
       "      <td>1</td>\n",
       "      <td>0</td>\n",
       "      <td>0</td>\n",
       "      <td>0</td>\n",
       "      <td>372485</td>\n",
       "      <td>-1</td>\n",
       "    </tr>\n",
       "    <tr>\n",
       "      <th>4</th>\n",
       "      <td>1</td>\n",
       "      <td>71</td>\n",
       "      <td>1</td>\n",
       "      <td>1</td>\n",
       "      <td>1</td>\n",
       "      <td>0</td>\n",
       "      <td>0</td>\n",
       "      <td>1</td>\n",
       "      <td>364806</td>\n",
       "      <td>-1</td>\n",
       "    </tr>\n",
       "  </tbody>\n",
       "</table>\n",
       "</div>"
      ],
      "text/plain": [
       "  Gender Age Scholarship Hipertension Diabetes Alcoholism Handcap  \\\n",
       "0      0  29           0            0        0          0       0   \n",
       "1      1  72           0            1        1          0       0   \n",
       "2      0  36           0            0        0          0       0   \n",
       "3      1  56           0            1        1          0       0   \n",
       "4      1  71           1            1        1          0       0   \n",
       "\n",
       "  SMS_received      Seconds  No-show  \n",
       "0            0  2.29551e+06        1  \n",
       "1            0       145830        1  \n",
       "2            1       389377       -1  \n",
       "3            0       372485       -1  \n",
       "4            1       364806       -1  "
      ]
     },
     "execution_count": 43,
     "metadata": {},
     "output_type": "execute_result"
    }
   ],
   "source": [
    "clean_appt_df.head()"
   ]
  },
  {
   "cell_type": "markdown",
   "metadata": {},
   "source": [
    "#### plot the No-show variable against other variables"
   ]
  },
  {
   "cell_type": "code",
   "execution_count": 44,
   "metadata": {},
   "outputs": [],
   "source": [
    "import matplotlib.pyplot as plt\n",
    "\n",
    "plt.style.use('seaborn-deep')\n",
    "\n",
    "def plot_histogram(variable):\n",
    "    if variable not in list(clean_appt_df.columns.values):\n",
    "        raise ValueError('variable not found in the data set.')\n",
    "        \n",
    "    x = clean_appt_df[clean_appt_df['No-show'] == -1][variable]\n",
    "    y = clean_appt_df[clean_appt_df['No-show'] == 1][variable]\n",
    "\n",
    "    plt.hist([x, y], label=['No-show', 'Show'])\n",
    "    plt.xlabel(variable)\n",
    "    plt.ylabel('Frequency')\n",
    "    plt.title('Histogram of Show and No-show Frequency Count on ' + variable + '\\n')\n",
    "    plt.legend(loc='upper right')"
   ]
  },
  {
   "cell_type": "code",
   "execution_count": 45,
   "metadata": {},
   "outputs": [
    {
     "data": {
      "image/png": "[encoded data removed]",
      "text/plain": [
       "<Figure size 432x288 with 1 Axes>"
      ]
     },
     "metadata": {},
     "output_type": "display_data"
    }
   ],
   "source": [
    "plot_histogram('Age')"
   ]
  },
  {
   "cell_type": "code",
   "execution_count": 46,
   "metadata": {},
   "outputs": [
    {
     "data": {
      "image/png": "[encoded data removed]",
      "text/plain": [
       "<Figure size 432x288 with 1 Axes>"
      ]
     },
     "metadata": {},
     "output_type": "display_data"
    }
   ],
   "source": [
    "plot_histogram('Seconds')"
   ]
  },
  {
   "cell_type": "code",
   "execution_count": 47,
   "metadata": {},
   "outputs": [],
   "source": [
    "def plot_histogram_cat(variable):\n",
    "    if variable not in list(clean_appt_df.columns.values):\n",
    "        raise ValueError('variable not found in the data set.')\n",
    "        \n",
    "    x = clean_appt_df[clean_appt_df['No-show'] == -1][variable]\n",
    "    y = clean_appt_df[clean_appt_df['No-show'] == 1][variable]\n",
    "\n",
    "    plt.hist([x, y], bins = 2, label=['No-show', 'Show'])\n",
    "    plt.xlabel(variable)\n",
    "    plt.ylabel('Frequency')\n",
    "    if variable == 'Gender':\n",
    "        plt.xticks([0.25, 0.75], ('Male', 'Female'))\n",
    "    else:\n",
    "        plt.xticks([0.25, 0.75], ('No', 'Yes'))\n",
    "    plt.title('Histogram of Show and No-show Frequency Count on ' + variable + '\\n')\n",
    "    plt.legend(loc='upper right')"
   ]
  },
  {
   "cell_type": "code",
   "execution_count": 48,
   "metadata": {},
   "outputs": [
    {
     "data": {
      "image/png": "[encoded data removed]",
      "text/plain": [
       "<Figure size 432x288 with 1 Axes>"
      ]
     },
     "metadata": {},
     "output_type": "display_data"
    },
    {
     "data": {
      "image/png": "[encoded data removed]",
      "text/plain": [
       "<Figure size 432x288 with 1 Axes>"
      ]
     },
     "metadata": {},
     "output_type": "display_data"
    },
    {
     "data": {
      "image/png": "[encoded data removed]",
      "text/plain": [
       "<Figure size 432x288 with 1 Axes>"
      ]
     },
     "metadata": {},
     "output_type": "display_data"
    },
    {
     "data": {
      "image/png": "[encoded data removed]",
      "text/plain": [
       "<Figure size 432x288 with 1 Axes>"
      ]
     },
     "metadata": {},
     "output_type": "display_data"
    },
    {
     "data": {
      "image/png": "[encoded data removed]",
      "text/plain": [
       "<Figure size 432x288 with 1 Axes>"
      ]
     },
     "metadata": {},
     "output_type": "display_data"
    },
    {
     "data": {
      "image/png": "[encoded data removed]",
      "text/plain": [
       "<Figure size 432x288 with 1 Axes>"
      ]
     },
     "metadata": {},
     "output_type": "display_data"
    },
    {
     "data": {
      "image/png": "[encoded data removed]",
      "text/plain": [
       "<Figure size 432x288 with 1 Axes>"
      ]
     },
     "metadata": {},
     "output_type": "display_data"
    },
    {
     "data": {
      "text/plain": [
       "<Figure size 432x288 with 0 Axes>"
      ]
     },
     "metadata": {},
     "output_type": "display_data"
    }
   ],
   "source": [
    "for col in list(clean_appt_df.columns.values):\n",
    "    if col in ['Age','No-show', 'Seconds']:\n",
    "        continue\n",
    "    plot_histogram_cat(col)\n",
    "    plt.figure()"
   ]
  },
  {
   "cell_type": "markdown",
   "metadata": {},
   "source": [
    "### Exploratory Data Analysis\n",
    "### My thoughts:\n",
    "1. Exploratory data analysis enables us to observe some hidden trends, characteristics and relationships between the features in our data set.\n",
    "2. From our analysis on the time lag between the appointment time and schedule time, as well as on the age of the patient, we can tell that patients who schedule the appointment earlier ahead of the time of the actual appointment are more likely to show up, and that patients who are older are less likely to show up.\n",
    "3. In addition, we observe that patients with scholarship have a higher rate of showing up at appointment. However, gender, sms received and other features appear to be neutral in predicting the appointment show-up rate."
   ]
  },
  {
   "cell_type": "markdown",
   "metadata": {},
   "source": [
    "## Data preprocessing\n",
    "\n",
    "Create a scikit pipeline for preprocessing the data to prepare it for ML algorithms. At a minimum your pipeline should:\n",
    "\n",
    "- Standardize numerical variables\n",
    "- Transform categorical variables into numeric variables\n",
    "\n",
    "Optionally, you can perform any other transformation you think is suitable. Again, refer to the intro notebook for an example of setting up a preprocessing pipeline."
   ]
  },
  {
   "cell_type": "markdown",
   "metadata": {},
   "source": [
    "#### create a data pipeline"
   ]
  },
  {
   "cell_type": "code",
   "execution_count": 49,
   "metadata": {},
   "outputs": [
    {
     "data": {
      "text/html": [
       "<div>\n",
       "<style scoped>\n",
       "    .dataframe tbody tr th:only-of-type {\n",
       "        vertical-align: middle;\n",
       "    }\n",
       "\n",
       "    .dataframe tbody tr th {\n",
       "        vertical-align: top;\n",
       "    }\n",
       "\n",
       "    .dataframe thead th {\n",
       "        text-align: right;\n",
       "    }\n",
       "</style>\n",
       "<table border=\"1\" class=\"dataframe\">\n",
       "  <thead>\n",
       "    <tr style=\"text-align: right;\">\n",
       "      <th></th>\n",
       "      <th>Gender</th>\n",
       "      <th>Age</th>\n",
       "      <th>Scholarship</th>\n",
       "      <th>Hipertension</th>\n",
       "      <th>Diabetes</th>\n",
       "      <th>Alcoholism</th>\n",
       "      <th>Handcap</th>\n",
       "      <th>SMS_received</th>\n",
       "      <th>Seconds</th>\n",
       "    </tr>\n",
       "  </thead>\n",
       "  <tbody>\n",
       "    <tr>\n",
       "      <th>0</th>\n",
       "      <td>0</td>\n",
       "      <td>29</td>\n",
       "      <td>0</td>\n",
       "      <td>0</td>\n",
       "      <td>0</td>\n",
       "      <td>0</td>\n",
       "      <td>0</td>\n",
       "      <td>0</td>\n",
       "      <td>2.29551e+06</td>\n",
       "    </tr>\n",
       "    <tr>\n",
       "      <th>1</th>\n",
       "      <td>1</td>\n",
       "      <td>72</td>\n",
       "      <td>0</td>\n",
       "      <td>1</td>\n",
       "      <td>1</td>\n",
       "      <td>0</td>\n",
       "      <td>0</td>\n",
       "      <td>0</td>\n",
       "      <td>145830</td>\n",
       "    </tr>\n",
       "    <tr>\n",
       "      <th>2</th>\n",
       "      <td>0</td>\n",
       "      <td>36</td>\n",
       "      <td>0</td>\n",
       "      <td>0</td>\n",
       "      <td>0</td>\n",
       "      <td>0</td>\n",
       "      <td>0</td>\n",
       "      <td>1</td>\n",
       "      <td>389377</td>\n",
       "    </tr>\n",
       "    <tr>\n",
       "      <th>3</th>\n",
       "      <td>1</td>\n",
       "      <td>56</td>\n",
       "      <td>0</td>\n",
       "      <td>1</td>\n",
       "      <td>1</td>\n",
       "      <td>0</td>\n",
       "      <td>0</td>\n",
       "      <td>0</td>\n",
       "      <td>372485</td>\n",
       "    </tr>\n",
       "    <tr>\n",
       "      <th>4</th>\n",
       "      <td>1</td>\n",
       "      <td>71</td>\n",
       "      <td>1</td>\n",
       "      <td>1</td>\n",
       "      <td>1</td>\n",
       "      <td>0</td>\n",
       "      <td>0</td>\n",
       "      <td>1</td>\n",
       "      <td>364806</td>\n",
       "    </tr>\n",
       "  </tbody>\n",
       "</table>\n",
       "</div>"
      ],
      "text/plain": [
       "  Gender Age Scholarship Hipertension Diabetes Alcoholism Handcap  \\\n",
       "0      0  29           0            0        0          0       0   \n",
       "1      1  72           0            1        1          0       0   \n",
       "2      0  36           0            0        0          0       0   \n",
       "3      1  56           0            1        1          0       0   \n",
       "4      1  71           1            1        1          0       0   \n",
       "\n",
       "  SMS_received      Seconds  \n",
       "0            0  2.29551e+06  \n",
       "1            0       145830  \n",
       "2            1       389377  \n",
       "3            0       372485  \n",
       "4            1       364806  "
      ]
     },
     "execution_count": 49,
     "metadata": {},
     "output_type": "execute_result"
    }
   ],
   "source": [
    "train_X_df.head()"
   ]
  },
  {
   "cell_type": "code",
   "execution_count": 50,
   "metadata": {},
   "outputs": [
    {
     "data": {
      "text/html": [
       "<div>\n",
       "<style scoped>\n",
       "    .dataframe tbody tr th:only-of-type {\n",
       "        vertical-align: middle;\n",
       "    }\n",
       "\n",
       "    .dataframe tbody tr th {\n",
       "        vertical-align: top;\n",
       "    }\n",
       "\n",
       "    .dataframe thead th {\n",
       "        text-align: right;\n",
       "    }\n",
       "</style>\n",
       "<table border=\"1\" class=\"dataframe\">\n",
       "  <thead>\n",
       "    <tr style=\"text-align: right;\">\n",
       "      <th></th>\n",
       "      <th>No-show</th>\n",
       "    </tr>\n",
       "  </thead>\n",
       "  <tbody>\n",
       "    <tr>\n",
       "      <th>0</th>\n",
       "      <td>1</td>\n",
       "    </tr>\n",
       "    <tr>\n",
       "      <th>1</th>\n",
       "      <td>1</td>\n",
       "    </tr>\n",
       "    <tr>\n",
       "      <th>2</th>\n",
       "      <td>-1</td>\n",
       "    </tr>\n",
       "    <tr>\n",
       "      <th>3</th>\n",
       "      <td>-1</td>\n",
       "    </tr>\n",
       "    <tr>\n",
       "      <th>4</th>\n",
       "      <td>-1</td>\n",
       "    </tr>\n",
       "  </tbody>\n",
       "</table>\n",
       "</div>"
      ],
      "text/plain": [
       "   No-show\n",
       "0        1\n",
       "1        1\n",
       "2       -1\n",
       "3       -1\n",
       "4       -1"
      ]
     },
     "execution_count": 50,
     "metadata": {},
     "output_type": "execute_result"
    }
   ],
   "source": [
    "train_y_df.head()"
   ]
  },
  {
   "cell_type": "code",
   "execution_count": 51,
   "metadata": {},
   "outputs": [],
   "source": [
    "from sklearn.pipeline import Pipeline, FeatureUnion\n",
    "from sklearn.base import BaseEstimator, TransformerMixin\n",
    "from sklearn.preprocessing import StandardScaler, LabelBinarizer\n",
    "from sklearn_pandas import DataFrameMapper\n",
    "\n",
    "cat_attributes = ['Gender', 'Scholarship', 'Hipertension', 'Diabetes', 'Alcoholism', 'Handcap', 'SMS_received']\n",
    "num_attributes = [x for x in list(train_X_df) if x not in cat_attributes]\n",
    "\n",
    "class NormalizedAttributes(BaseEstimator, TransformerMixin):\n",
    "\n",
    "    def __init__(self):\n",
    "        self.age_ix = 0\n",
    "        self.seconds_ix = 1\n",
    "    \n",
    "    def fit(self, X, y=None):\n",
    "        return self\n",
    "    \n",
    "    def transform(self, X, y=None):\n",
    "        age_normal = (X[:, self.age_ix] - np.mean(X[:, self.age_ix])) / np.std(X[:, self.age_ix])\n",
    "        seconds_normal = (X[:, self.seconds_ix] - np.mean(X[:, self.seconds_ix])) / np.std(X[:, self.seconds_ix])\n",
    "        return np.c_[age_normal, seconds_normal] \n",
    "    \n",
    "class MyNumeric(TransformerMixin):\n",
    "    \n",
    "    def __init__(self):\n",
    "        self.gender_ix = 0\n",
    "        self.scholarship_ix = 1\n",
    "        self.hipertension_ix = 2\n",
    "        self.diabetes_ix = 3\n",
    "        self.alcoholism_ix = 4\n",
    "        self.handcap_ix = 5\n",
    "        self.sms_received_ix = 6\n",
    "\n",
    "    def fit(self, X, y=None):\n",
    "        return self\n",
    "    \n",
    "    def transform(self, X, y=0):\n",
    "        gender_int = X[:, self.gender_ix].astype('int')\n",
    "        scholarship_int = X[:, self.scholarship_ix].astype('int')\n",
    "        hipertension_int = X[:, self.hipertension_ix].astype('int')\n",
    "        diabetes_int = X[:, self.diabetes_ix].astype('int')\n",
    "        alcoholism_int = X[:, self.alcoholism_ix].astype('int')\n",
    "        handcap_int = X[:, self.handcap_ix].astype('int')\n",
    "        sms_received_int = X[:, self.sms_received_ix].astype('int')\n",
    "        return np.c_[gender_int, scholarship_int, hipertension_int, diabetes_int, alcoholism_int, handcap_int, sms_received_int]\n",
    "    \n",
    "class MyLabelBinarizer(TransformerMixin):\n",
    "    \n",
    "    def __init__(self, *args, **kwargs):\n",
    "        self.encoder = LabelBinarizer(*args, **kwargs)\n",
    "        \n",
    "    def fit(self, x, y=0):\n",
    "        self.encoder.fit(x)\n",
    "        return self\n",
    "    \n",
    "    def transform(self, x, y=0):\n",
    "        return self.encoder.transform(x)\n",
    "\n",
    "num_pipeline = Pipeline([\n",
    "    ('attribs', NormalizedAttributes()) # Standardize numerical variables\n",
    "])\n",
    "\n",
    "cat_pipeline = Pipeline([ \n",
    "    ('numeric', MyNumeric()), # Transform categorical variables into numeric variables\n",
    "    ('label_binarizer', MyLabelBinarizer()) \n",
    "])\n",
    "\n",
    "full_pipeline = DataFrameMapper([\n",
    "    (cat_attributes, cat_pipeline),\n",
    "    (num_attributes, num_pipeline)\n",
    "])"
   ]
  },
  {
   "cell_type": "code",
   "execution_count": 52,
   "metadata": {},
   "outputs": [],
   "source": [
    "train_X_clean = full_pipeline.fit_transform(train_X_df)"
   ]
  },
  {
   "cell_type": "code",
   "execution_count": 53,
   "metadata": {},
   "outputs": [
    {
     "data": {
      "text/plain": [
       "(49706, 9)"
      ]
     },
     "execution_count": 53,
     "metadata": {},
     "output_type": "execute_result"
    }
   ],
   "source": [
    "train_X_clean.shape"
   ]
  },
  {
   "cell_type": "code",
   "execution_count": 54,
   "metadata": {},
   "outputs": [
    {
     "data": {
      "text/plain": [
       "array([[0, 0, 0, ..., 0, -0.48084148380697406, 0.6978623855573567],\n",
       "       [1, 0, 1, ..., 0, 1.4518908004369502, -0.813360136191985],\n",
       "       [0, 0, 0, ..., 1, -0.1662106468370329, -0.6421471194334736],\n",
       "       ...,\n",
       "       [1, 0, 0, ..., 1, 0.552945551951404, -0.02800609088750189],\n",
       "       [1, 0, 0, ..., 0, 1.0923127010427318, 3.5576998089484455],\n",
       "       [0, 0, 0, ..., 1, 0.058525665284353635, -0.15682201046276292]],\n",
       "      dtype=object)"
      ]
     },
     "execution_count": 54,
     "metadata": {},
     "output_type": "execute_result"
    }
   ],
   "source": [
    "train_X_clean.view()"
   ]
  },
  {
   "cell_type": "markdown",
   "metadata": {},
   "source": [
    "### Model Building\n",
    "\n",
    "Using `sklearn` fit:\n",
    "    - DecisionTree classifier\n",
    "    - RandomForest classifier\n",
    "    - Linear SVM classifier\n",
    "    - SVM with Radial Basis Kernel classifier\n",
    "    \n",
    "Use default parameters for now.\n",
    "Using 10-fold cross validation report both accuracy and AUC for each of the above four models.\n",
    "\n",
    "QUESTION: Should you use accuracy or AUC for this task as a performance metric?"
   ]
  },
  {
   "cell_type": "markdown",
   "metadata": {},
   "source": [
    "#### Using sklearn fit Decision Tree classifier"
   ]
  },
  {
   "cell_type": "code",
   "execution_count": 55,
   "metadata": {},
   "outputs": [
    {
     "name": "stdout",
     "output_type": "stream",
     "text": [
      "Decision Tree Classifier Model:\n",
      "DecisionTreeClassifier(class_weight=None, criterion='gini', max_depth=None,\n",
      "            max_features=None, max_leaf_nodes=None,\n",
      "            min_impurity_split=1e-07, min_samples_leaf=1,\n",
      "            min_samples_split=2, min_weight_fraction_leaf=0.0,\n",
      "            presort=False, random_state=None, splitter='best')\n",
      "Decision Tree Classifier Accuracy:\n",
      "[0.61738081 0.61456447 0.61315631 0.61355864 0.62522631 0.61919131\n",
      " 0.61717964 0.61315631 0.62910042 0.61944053]\n",
      "Decision Tree Classifier AUC:\n",
      "[0.53751988 0.52932531 0.53374301 0.5343282  0.54149059 0.54505377\n",
      " 0.53109068 0.53667886 0.54768547 0.53596436]\n"
     ]
    }
   ],
   "source": [
    "from sklearn.tree import DecisionTreeClassifier\n",
    "from sklearn.model_selection import cross_val_score\n",
    "\n",
    "dtc = DecisionTreeClassifier()\n",
    "dtc.fit(train_X_clean, train_y)\n",
    "\n",
    "dtc_accuracy = cross_val_score(dtc, train_X_clean, train_y, scoring=\"accuracy\", cv=10)\n",
    "dtc_auc = cross_val_score(dtc, train_X_clean, train_y, scoring=\"roc_auc\", cv=10)\n",
    "\n",
    "print(\"Decision Tree Classifier Model:\")\n",
    "print(dtc)\n",
    "print(\"Decision Tree Classifier Accuracy:\")\n",
    "print(dtc_accuracy)\n",
    "print(\"Decision Tree Classifier AUC:\")\n",
    "print(dtc_auc)"
   ]
  },
  {
   "cell_type": "code",
   "execution_count": 56,
   "metadata": {},
   "outputs": [
    {
     "name": "stdout",
     "output_type": "stream",
     "text": [
      "Mean of Accuracy of Decision Tree Classifier: 0.6181954753954503\n"
     ]
    }
   ],
   "source": [
    "print(\"Mean of Accuracy of Decision Tree Classifier:\", np.mean(dtc_accuracy))"
   ]
  },
  {
   "cell_type": "code",
   "execution_count": 57,
   "metadata": {},
   "outputs": [
    {
     "name": "stdout",
     "output_type": "stream",
     "text": [
      "Mean of AUC of Decision Tree Classifier: 0.5372880129004599\n"
     ]
    }
   ],
   "source": [
    "print(\"Mean of AUC of Decision Tree Classifier:\", np.mean(dtc_auc))"
   ]
  },
  {
   "cell_type": "markdown",
   "metadata": {},
   "source": [
    "#### Using sklearn fit Random Forest classifier"
   ]
  },
  {
   "cell_type": "code",
   "execution_count": 58,
   "metadata": {},
   "outputs": [
    {
     "name": "stdout",
     "output_type": "stream",
     "text": [
      "Random Forest Classifier Model:\n",
      "RandomForestClassifier(bootstrap=True, class_weight=None, criterion='gini',\n",
      "            max_depth=None, max_features='auto', max_leaf_nodes=None,\n",
      "            min_impurity_split=1e-07, min_samples_leaf=1,\n",
      "            min_samples_split=2, min_weight_fraction_leaf=0.0,\n",
      "            n_estimators=100, n_jobs=1, oob_score=False, random_state=None,\n",
      "            verbose=0, warm_start=False)\n",
      "Random Forest Classifier Accuracy:\n",
      "[0.66364917 0.64976866 0.64594649 0.64916516 0.6592235  0.64514182\n",
      " 0.64654999 0.65157916 0.65385389 0.65626887]\n",
      "Random Forest Classifier AUC:\n",
      "[0.57582712 0.56765824 0.55865082 0.55992862 0.57736205 0.56135374\n",
      " 0.55516272 0.57079129 0.57126988 0.56665378]\n"
     ]
    }
   ],
   "source": [
    "from sklearn.ensemble import RandomForestClassifier\n",
    "\n",
    "rfc = RandomForestClassifier(n_estimators=100)\n",
    "rfc.fit(train_X_clean, train_y)\n",
    "\n",
    "rfc_accuracy = cross_val_score(rfc, train_X_clean, train_y, scoring=\"accuracy\", cv=10)\n",
    "rfc_auc = cross_val_score(rfc, train_X_clean, train_y, scoring=\"roc_auc\", cv=10)\n",
    "\n",
    "print(\"Random Forest Classifier Model:\")\n",
    "print(rfc)\n",
    "print(\"Random Forest Classifier Accuracy:\")\n",
    "print(rfc_accuracy)\n",
    "print(\"Random Forest Classifier AUC:\")\n",
    "print(rfc_auc)"
   ]
  },
  {
   "cell_type": "code",
   "execution_count": 59,
   "metadata": {},
   "outputs": [
    {
     "name": "stdout",
     "output_type": "stream",
     "text": [
      "Mean of Accuracy of Random Forest Classifier: 0.652114669996424\n"
     ]
    }
   ],
   "source": [
    "print(\"Mean of Accuracy of Random Forest Classifier:\", np.mean(rfc_accuracy))"
   ]
  },
  {
   "cell_type": "code",
   "execution_count": 60,
   "metadata": {},
   "outputs": [
    {
     "name": "stdout",
     "output_type": "stream",
     "text": [
      "Mean of AUC of Random Forest Classifier: 0.5664658245838774\n"
     ]
    }
   ],
   "source": [
    "print(\"Mean of AUC of Random Forest Classifier:\", np.mean(rfc_auc))"
   ]
  },
  {
   "cell_type": "markdown",
   "metadata": {},
   "source": [
    "#### Using sklearn fit Linear SVM classifier"
   ]
  },
  {
   "cell_type": "code",
   "execution_count": 61,
   "metadata": {},
   "outputs": [
    {
     "name": "stdout",
     "output_type": "stream",
     "text": [
      "Linear SVM Classifier Model:\n",
      "SVC(C=1.0, cache_size=200, class_weight=None, coef0=0.0,\n",
      "  decision_function_shape=None, degree=3, gamma='auto', kernel='linear',\n",
      "  max_iter=-1, probability=False, random_state=None, shrinking=True,\n",
      "  tol=0.001, verbose=False)\n",
      "Linear SVM Classifier Accuracy:\n",
      "[0.71454436 0.71454436 0.71454436 0.71454436 0.71454436 0.71454436\n",
      " 0.71454436 0.71454436 0.71463071 0.71463071]\n",
      "Linear SVM Classifier AUC:\n",
      "[0.45867151 0.54759946 0.5699589  0.48790724 0.54905136 0.52120276\n",
      " 0.460956   0.43264671 0.4505346  0.48323224]\n"
     ]
    }
   ],
   "source": [
    "from sklearn.svm import LinearSVC\n",
    "from sklearn.svm import SVC\n",
    "\n",
    "lin_svm = SVC(kernel = 'linear')\n",
    "lin_svm.fit(train_X_clean, train_y)\n",
    "\n",
    "lin_svm_accuracy = cross_val_score(lin_svm, train_X_clean, train_y, scoring=\"accuracy\", cv=10)\n",
    "lin_svm_auc = cross_val_score(lin_svm, train_X_clean, train_y, scoring=\"roc_auc\", cv=10)\n",
    "\n",
    "print(\"Linear SVM Classifier Model:\")\n",
    "print(lin_svm)\n",
    "print(\"Linear SVM Classifier Accuracy:\")\n",
    "print(lin_svm_accuracy)\n",
    "print(\"Linear SVM Classifier AUC:\")\n",
    "print(lin_svm_auc)"
   ]
  },
  {
   "cell_type": "code",
   "execution_count": 62,
   "metadata": {},
   "outputs": [
    {
     "name": "stdout",
     "output_type": "stream",
     "text": [
      "Mean of Accuracy of Linear SVM Classifier: 0.7145616278986446\n"
     ]
    }
   ],
   "source": [
    "print(\"Mean of Accuracy of Linear SVM Classifier:\", np.mean(lin_svm_accuracy))"
   ]
  },
  {
   "cell_type": "code",
   "execution_count": 63,
   "metadata": {},
   "outputs": [
    {
     "name": "stdout",
     "output_type": "stream",
     "text": [
      "Mean of AUC of Linear SVM Classifier: 0.4961760780577865\n"
     ]
    }
   ],
   "source": [
    "print(\"Mean of AUC of Linear SVM Classifier:\", np.mean(lin_svm_auc))"
   ]
  },
  {
   "cell_type": "markdown",
   "metadata": {},
   "source": [
    "#### Using sklearn fit SVM with Radial Basis Kernel classifier"
   ]
  },
  {
   "cell_type": "code",
   "execution_count": 64,
   "metadata": {},
   "outputs": [
    {
     "name": "stdout",
     "output_type": "stream",
     "text": [
      "Linear SVM with Radial Basis Kernel Classifier Model:\n",
      "SVC(C=1.0, cache_size=200, class_weight=None, coef0=0.0,\n",
      "  decision_function_shape=None, degree=3, gamma='auto', kernel='rbf',\n",
      "  max_iter=-1, probability=False, random_state=None, shrinking=True,\n",
      "  tol=0.001, verbose=False)\n",
      "Linear SVM with Radial Basis Kernel Classifier Accuracy:\n",
      "[0.71454436 0.71454436 0.71454436 0.71454436 0.71454436 0.71454436\n",
      " 0.71454436 0.71454436 0.71463071 0.71463071]\n",
      "Linear SVM with Radial Basis Kernel Classifier AUC:\n",
      "[0.53327657 0.52492477 0.55138615 0.5031153  0.49855762 0.49051304\n",
      " 0.51225287 0.55153594 0.52721913 0.5513201 ]\n"
     ]
    }
   ],
   "source": [
    "lin_svm_rbf = SVC(kernel = \"rbf\")\n",
    "lin_svm_rbf.fit(train_X_clean, train_y)\n",
    "\n",
    "lin_svm_rbf_accuracy = cross_val_score(lin_svm_rbf, train_X_clean, train_y, scoring=\"accuracy\", cv=10)\n",
    "lin_svm_rbf_auc = cross_val_score(lin_svm_rbf, train_X_clean, train_y, scoring=\"roc_auc\", cv=10)\n",
    "\n",
    "print(\"Linear SVM with Radial Basis Kernel Classifier Model:\")\n",
    "print(lin_svm_rbf)\n",
    "print(\"Linear SVM with Radial Basis Kernel Classifier Accuracy:\")\n",
    "print(lin_svm_rbf_accuracy)\n",
    "print(\"Linear SVM with Radial Basis Kernel Classifier AUC:\")\n",
    "print(lin_svm_rbf_auc)"
   ]
  },
  {
   "cell_type": "code",
   "execution_count": 65,
   "metadata": {},
   "outputs": [
    {
     "name": "stdout",
     "output_type": "stream",
     "text": [
      "Mean of Accuracy of Linear SVM with Radial Basis Kernel Classifier: 0.7145616278986446\n"
     ]
    }
   ],
   "source": [
    "print(\"Mean of Accuracy of Linear SVM with Radial Basis Kernel Classifier:\", np.mean(lin_svm_rbf_accuracy))"
   ]
  },
  {
   "cell_type": "code",
   "execution_count": 66,
   "metadata": {},
   "outputs": [
    {
     "name": "stdout",
     "output_type": "stream",
     "text": [
      "Mean of AUC of Linear SVM with Radial Basis Kernel Classifier: 0.5244101495782494\n"
     ]
    }
   ],
   "source": [
    "print(\"Mean of AUC of Linear SVM with Radial Basis Kernel Classifier:\", np.mean(lin_svm_rbf_auc))"
   ]
  },
  {
   "cell_type": "markdown",
   "metadata": {},
   "source": [
    "### Should you use accuracy or AUC as a metric for this task?\n",
    "### My thoughts:\n",
    "1. roc_auc stands for area under the curve based on receiver operating characteristics, and accuracy stands for the proportion of correct classifications over the entire data set.\n",
    "2. In our case, it is generally the case that the models' accuracy scores are higher than their roc_auc scores, which reflects the fact that the models are biased by the probability distribution of label in the training set. As the method of getting highest accuracy will treak the model in the wrong direction influenced by the probability distribution of label, it is not a suitable metric to be used in model tuning, and couldn't reflect the predictability of the model selected based on high accuracy.\n",
    "3. However, roc_auc shows the trade-off between false positive rate (FPR) and true positive rate(TPR). As FPR varies, there will be a series of TPR generated by the prediction of the model. This method means that given a FPR threshold, we are picking the learning algorithm that predicts as many true positive cases as possible. "
   ]
  },
  {
   "cell_type": "markdown",
   "metadata": {},
   "source": [
    "### Model Tuning\n",
    "\n",
    "Based on the above, choose two methods and fit a tuned model:\n",
    "    - use 5-fold cross validation for model selection\n",
    "    - use 10-fold cross validation for model assessment (based on appropriate performance metric)\n",
    "\n",
    "Report estimated performance for both tuned classifiers"
   ]
  },
  {
   "cell_type": "markdown",
   "metadata": {},
   "source": [
    "#### Use 5-fold cross validation for model selection with Random Forest Classifier"
   ]
  },
  {
   "cell_type": "code",
   "execution_count": 67,
   "metadata": {},
   "outputs": [
    {
     "data": {
      "text/plain": [
       "dict_keys(['bootstrap', 'class_weight', 'criterion', 'max_depth', 'max_features', 'max_leaf_nodes', 'min_impurity_split', 'min_samples_leaf', 'min_samples_split', 'min_weight_fraction_leaf', 'n_estimators', 'n_jobs', 'oob_score', 'random_state', 'verbose', 'warm_start'])"
      ]
     },
     "execution_count": 67,
     "metadata": {},
     "output_type": "execute_result"
    }
   ],
   "source": [
    "rfc.get_params().keys()"
   ]
  },
  {
   "cell_type": "code",
   "execution_count": null,
   "metadata": {},
   "outputs": [],
   "source": [
    "from sklearn.model_selection import GridSearchCV\n",
    "\n",
    "params = {\"max_depth\": [3, 10, 15, 30],\n",
    "          \"max_features\": [1, 3, 6, 9],\n",
    "          \"min_samples_split\": [1, 3, 6, 9],\n",
    "          \"min_samples_leaf\": [1, 3, 6, 9],\n",
    "          \"criterion\": [\"gini\", \"entropy\"]}\n",
    "\n",
    "grid_search_rfc = GridSearchCV(estimator = rfc, param_grid = params, scoring = \"roc_auc\", cv = 5)\n",
    "grid_search_rfc.fit(train_X_clean, train_y)\n",
    "\n",
    "print(\"Random Forest: \", grid_search_rfc.best_params_)\n",
    "print(\"AUC score: {}\".format(grid_search_rfc.best_score_))"
   ]
  },
  {
   "cell_type": "markdown",
   "metadata": {},
   "source": [
    "#### Random Forest model assessment with 10-fold based on AUC"
   ]
  },
  {
   "cell_type": "code",
   "execution_count": null,
   "metadata": {},
   "outputs": [],
   "source": [
    "from sklearn.model_selection import cross_val_score\n",
    "\n",
    "scores_RF = cross_val_score(RandomForestClassifier(n_estimators = 100, \n",
    "                                                   max_depth = 10, \n",
    "                                                   max_features = 6, \n",
    "                                                   min_samples_split = 1,\n",
    "                                                   min_samples_leaf = 1,\n",
    "                                                   criterion = \"entropy\",\n",
    "                                                   verbose = 1), \n",
    "                            train_X_clean, train_y, cv = 10, scoring = 'roc_auc')"
   ]
  },
  {
   "cell_type": "code",
   "execution_count": null,
   "metadata": {},
   "outputs": [],
   "source": [
    "print(\"Mean of RF Scores:\", np.mean(scores_RF))"
   ]
  },
  {
   "cell_type": "markdown",
   "metadata": {},
   "source": [
    "#### Use 5-fold cross validation for model selection with SVM with Radial Basis Kernel Classifier"
   ]
  },
  {
   "cell_type": "code",
   "execution_count": null,
   "metadata": {},
   "outputs": [],
   "source": [
    "lin_svm_rbf.get_params().keys()"
   ]
  },
  {
   "cell_type": "code",
   "execution_count": null,
   "metadata": {},
   "outputs": [],
   "source": [
    "vals = [0.0001, 0.01, 0.1, 1, 10]\n",
    "\n",
    "param_grid = {'C': vals}\n",
    "\n",
    "grid_search_rbf = GridSearchCV(estimator = lin_svm_rbf, param_grid = param_grid, scoring = \"roc_auc\", cv = 5)\n",
    "grid_search_rbf.fit(train_X_clean, train_y)\n",
    "\n",
    "print(\"SVM with Radial Basis Kernal: \", grid_search_rbf.best_params_)\n",
    "print(\"AUC score: {}\".format(grid_search_rbf.best_score_))"
   ]
  },
  {
   "cell_type": "markdown",
   "metadata": {},
   "source": [
    "#### SVM with Radial Basis Kernel model assessment with 10-fold based on AUC"
   ]
  },
  {
   "cell_type": "code",
   "execution_count": null,
   "metadata": {},
   "outputs": [],
   "source": [
    "scores_linsvm = cross_val_score(SVC(kernel = \"rbf\", \n",
    "                                    C = 10, \n",
    "                                    verbose = 1), train_X_clean, train_y, cv = 10, scoring = 'roc_auc')"
   ]
  },
  {
   "cell_type": "code",
   "execution_count": null,
   "metadata": {},
   "outputs": [],
   "source": [
    "print(\"Mean of SVM Scores:\", np.mean(scores_linsvm))"
   ]
  },
  {
   "cell_type": "markdown",
   "metadata": {},
   "source": [
    "### Report estimated performance for the tuned classifiers.\n",
    "\n",
    "### Reports:\n",
    "1. Based on the above classifiers that I fit, I choose among them two classifiers, random forest and linear SVM with radial basis kernel classifier and fit two tuned models.\n",
    "2. The roc_auc score of tuned random forest classifier is around 60.65%, much higher than 55.76%, the score of the untuned one.\n",
    "3. The roc_auc score of tuned linear SVM with radial basis kernel classifier is around 53.11% a little bit higher than 51.54%, the roc_auc score of the untuned classifier.\n",
    "4. According to the results, it is obvious that the estimated performance for the tuned classifier is better than that for the untuned classifier. Therefore, it is reasonable to conclude that model tuning can improve the performance of a classifier."
   ]
  },
  {
   "cell_type": "markdown",
   "metadata": {},
   "source": [
    "### Linear SVM with Gradient Descent"
   ]
  },
  {
   "cell_type": "markdown",
   "metadata": {},
   "source": [
    "#### Implement gradient descent for a linear svm"
   ]
  },
  {
   "cell_type": "code",
   "execution_count": null,
   "metadata": {},
   "outputs": [],
   "source": [
    "import math\n",
    "\n",
    "def _initialize_parameters(nfeatures):\n",
    "    w = np.random.randn(nfeatures) / math.sqrt(nfeatures)\n",
    "    # initialize w as unit column vector?\n",
    "    # No, because it doesn't affect the margin maximization problem.\n",
    "    # why its norm can represent penalty?\n",
    "    # the distance of margin 1 is defined as 1/norm\n",
    "    b = np.random.randn(1) / math.sqrt(nfeatures)\n",
    "    return w, b\n",
    "\n",
    "pos_part = np.vectorize(lambda u: u if u > 0. else 0.)\n",
    "\n",
    "def _get_objective(f, y, w, lam):\n",
    "    nobs = y.shape[0]\n",
    "    hinge_loss = np.sum(pos_part(1.0 - y * f)) / nobs \n",
    "    # hinge loss given signed vertical distance\n",
    "    # given sign and absolute value, bad distance goes to hinge loss\n",
    "    penalty = 0.5 * lam * np.dot(w,w)  # control model complexity\n",
    "    return hinge_loss + penalty\n",
    "\n",
    "def _get_signed_distances(X, w, b):\n",
    "    f = np.dot(X,w) + b \n",
    "    return f # f is a nobs by 1 vector\n",
    "\n",
    "t_part = np.vectorize(lambda r: 1. if r > 0. else 0.)\n",
    "\n",
    "def _get_gradients(f, X, y, w, b, lam):\n",
    "    nobs, nfeatures = X.shape\n",
    "    t = t_part(1. - y * f)\n",
    "    gw = - np.dot(np.transpose(X), t * y) / nobs + lam * w \n",
    "    # only adjust when misclassified. \n",
    "    # How the impact of misclassified ones are demonstrated?\n",
    "    # Only in Perceptron algorithm can it be graphed.\n",
    "    gb = - np.sum(t * y) / nobs\n",
    "    return gw, gb\n",
    "\n",
    "def fit_svm(X, y, lam = 1.0, n_iter = 1000, tol = 1e-10, eta = .4, verbose = 1):\n",
    "    nobs, nfeatures = X.shape\n",
    "    \n",
    "    w, b = _initialize_parameters(nfeatures)\n",
    "    \n",
    "    prev_obj = 0\n",
    "    for k in range(n_iter):\n",
    "        f = _get_signed_distances(X, w, b) \n",
    "        \n",
    "        if k % round(n_iter/10) == 0:\n",
    "            obj = _get_objective(f, y, w, lam)\n",
    "            if k > 0 and abs(obj - prev_obj) < tol:\n",
    "                break\n",
    "            prev_obj = obj\n",
    "            eta = eta / 2.0 # decaying learning rate\n",
    "            print(\"iteration: %d, obj %.2f\" % (k, obj))\n",
    "        \n",
    "        gw, gb = _get_gradients(f, X, y, w, b, lam)\n",
    "        w = w - eta * gw\n",
    "        b = b - eta * gb\n",
    "    return w, b"
   ]
  },
  {
   "cell_type": "code",
   "execution_count": null,
   "metadata": {},
   "outputs": [],
   "source": [
    "w,b = fit_svm(train_X_clean, train_y, n_iter = 1000, lam = 1)"
   ]
  },
  {
   "cell_type": "markdown",
   "metadata": {},
   "source": [
    "#### Use 5-fold cross validation for model selection with Gradient Descent Linear SVM classifier"
   ]
  },
  {
   "cell_type": "code",
   "execution_count": null,
   "metadata": {},
   "outputs": [],
   "source": [
    "from sklearn.base import BaseEstimator, ClassifierMixin\n",
    "from sklearn.utils.validation import check_X_y, check_array, check_is_fitted\n",
    "\n",
    "class GradientDescentLinearSVMClassifier(BaseEstimator, ClassifierMixin):\n",
    "    def __init__(self, lam=1.0, n_iter=1000, eta=.4, tol=1e-10, verbose=0):\n",
    "        self.lam = lam\n",
    "        self.n_iter = n_iter\n",
    "        self.eta = eta\n",
    "        self.tol = tol\n",
    "        self.verbose = verbose\n",
    "        \n",
    "    def fit(self, X, y):\n",
    "        X, y = check_X_y(X, y)\n",
    "        self.w_, self.b_ = fit_svm(X, y, lam=self.lam, n_iter=self.n_iter,\n",
    "                                   eta = self.eta, tol=self.tol, verbose=self.verbose)\n",
    "        return self\n",
    "    \n",
    "    def decision_function(self, X):\n",
    "        check_is_fitted(self, ['w_', 'b_'])\n",
    "        X = check_array(X)\n",
    "        return _get_signed_distances(X, self.w_, self.b_)\n",
    "    \n",
    "    def predict(self, X):\n",
    "        f = self.decision_function(X)\n",
    "        return np.sign(f)"
   ]
  },
  {
   "cell_type": "code",
   "execution_count": null,
   "metadata": {},
   "outputs": [],
   "source": [
    "lin_svm_gd = GradientDescentLinearSVMClassifier()\n",
    "lin_svm_gd.get_params().keys()"
   ]
  },
  {
   "cell_type": "code",
   "execution_count": null,
   "metadata": {},
   "outputs": [],
   "source": [
    "svm_param_grid = [{'lam': 2 ** np.linspace(-4, 5, num=5)}]\n",
    "\n",
    "grid_search_gd = GridSearchCV(lin_svm_gd, svm_param_grid, scoring='roc_auc', cv = 5)\n",
    "grid_search_gd.fit(train_X_clean, train_y)\n",
    "\n",
    "print(\"Gradient Descent Linear SVM: \", grid_search_gd.best_params_)\n",
    "print(\"AUC score: {}\".format(grid_search_gd.best_score_))"
   ]
  },
  {
   "cell_type": "markdown",
   "metadata": {},
   "source": [
    "#### Gradient Descent Linear SVM model assessment with 10-fold based on AUC"
   ]
  },
  {
   "cell_type": "code",
   "execution_count": null,
   "metadata": {},
   "outputs": [],
   "source": [
    "scores_linsvm_gd = cross_val_score(GradientDescentLinearSVMClassifier(lam = 2., verbose = 1), train_X_clean, train_y, cv = 10, scoring = 'roc_auc')\n",
    "print(\"Mean of Linear SVM with Gradient Descent Scores:\", np.mean(scores_linsvm_gd))"
   ]
  },
  {
   "cell_type": "markdown",
   "metadata": {},
   "source": [
    "### How did its performance compare to the above?\n",
    "### My thoughts:\n",
    "1. In terms of accuracy, gradient descent for a linear svm obtains a score of 71.57%, which is slightly lower but almost the same as the scores of Linear SVM classifier and Liner SVM with Radial Basis Kernel classifier, and much higher than the scores of Decision Tree classifier and Random Forest classifier.\n",
    "2. The result signifies that in binary classification problem, it is more suitable to use linear SVM classifiers than tree-based classifiers since the total number of classes is too small."
   ]
  },
  {
   "cell_type": "markdown",
   "metadata": {},
   "source": [
    "# Part III: Ensembles and Final Result\n",
    "\n",
    "## AdaBoost\n",
    "\n",
    "Train an AdaBoost classifier and compare its performance to results obtained in Part II using 10 fold CV."
   ]
  },
  {
   "cell_type": "markdown",
   "metadata": {},
   "source": [
    "#### Train an AdaBoost classifier"
   ]
  },
  {
   "cell_type": "code",
   "execution_count": null,
   "metadata": {},
   "outputs": [],
   "source": [
    "# Load libraries\n",
    "from sklearn.ensemble import AdaBoostClassifier\n",
    "\n",
    "abc = AdaBoostClassifier(n_estimators=50, learning_rate=1)\n",
    "abc.fit(train_X_clean, train_y)\n",
    "\n",
    "abc.get_params().keys()"
   ]
  },
  {
   "cell_type": "code",
   "execution_count": null,
   "metadata": {},
   "outputs": [],
   "source": [
    "abc_params = {\"max_depth\": [3, 10, 15, 30], \"max_features\": [1, 3, 6, 9]}\n",
    "\n",
    "grid_search_abc = GridSearchCV(estimator = abc, param_grid = abc_params, scoring = \"roc_auc\", cv = 5)\n",
    "grid_search_abc.fit(train_X_clean, train_y)\n",
    "\n",
    "print(\"AdaBoost: \", grid_search_abc.best_params_)\n",
    "print(\"AUC score: {}\".format(grid_search_abc.best_score_))"
   ]
  },
  {
   "cell_type": "markdown",
   "metadata": {},
   "source": [
    "#### Compare its performance to results obtained in Part II using 10 fold CV"
   ]
  },
  {
   "cell_type": "code",
   "execution_count": null,
   "metadata": {},
   "outputs": [],
   "source": [
    "scores_abc = cross_val_score(abc(verbose = 1), train_X_clean, train_y, cv = 10, scoring = 'roc_auc')\n",
    "print(\"Mean of AdaBoost Scores:\", np.mean(scores_abc))"
   ]
  },
  {
   "cell_type": "markdown",
   "metadata": {},
   "source": [
    "### My thoughts:\n",
    "1. The 10 fold CV roc_auc score of the AdaBoost classifier demonstrates that it is a much better classifier than untuned tree-based classifiers and linear SVM classifiers, while slightly worse than tuned random forest classifier."
   ]
  },
  {
   "cell_type": "markdown",
   "metadata": {},
   "source": [
    "## xgBoost\n",
    "\n",
    "Train an xgBoost classifier and compare its performance to results in Part II using 10 fold CV. `sklearn` has a gradient boosting model included http://scikit-learn.org/stable/modules/generated/sklearn.ensemble.GradientBoostingClassifier.html which you can use. The `xgboost` package https://xgboost.readthedocs.io/en/latest/python/python_intro.htmlhas a wrapper you can use with sklearn as well https://xgboost.readthedocs.io/en/latest/python/python_api.html#module-xgboost.sklearn. The latter is more efficient at training time."
   ]
  },
  {
   "cell_type": "markdown",
   "metadata": {},
   "source": [
    "#### Train an xgBoost classifier"
   ]
  },
  {
   "cell_type": "code",
   "execution_count": null,
   "metadata": {},
   "outputs": [],
   "source": [
    "from sklearn.ensemble import GradientBoostingClassifier\n",
    "\n",
    "xgbc = GradientBoostingClassifier()\n",
    "xgbc.fit(train_X_clean, train_y)\n",
    "\n",
    "abc.get_params().keys()"
   ]
  },
  {
   "cell_type": "code",
   "execution_count": null,
   "metadata": {},
   "outputs": [],
   "source": [
    "xgbc_params = {\"max_depth\": [3, 10, 15, 30], \"max_features\": [1, 3, 6, 9]}\n",
    "\n",
    "grid_search_xgbc = GridSearchCV(estimator = xgbc, param_grid = xgbc_params, scoring = \"roc_auc\", cv = 5)\n",
    "grid_search_xgbc.fit(train_X_clean, train_y)\n",
    "\n",
    "print(\"xgBoost: \", grid_search_xgbc.best_params_)\n",
    "print(\"AUC score: {}\".format(grid_search_xgbc.best_score_))"
   ]
  },
  {
   "cell_type": "markdown",
   "metadata": {},
   "source": [
    "#### Compare its performance to results obtained in Part II using 10 fold CV"
   ]
  },
  {
   "cell_type": "code",
   "execution_count": null,
   "metadata": {},
   "outputs": [],
   "source": [
    "scores_xgbc = cross_val_score(xgbc(verbose = 1), train_X_clean, train_y.as_matrix(), cv = 10, scoring = 'roc_auc')\n",
    "print(\"Mean of xgBoost Scores:\", np.mean(scores_xgbc))"
   ]
  },
  {
   "cell_type": "markdown",
   "metadata": {},
   "source": [
    "### My thoughts:\n",
    "1. The 10 fold CV roc_auc score of the xgBoost classifier demonstrates that it is a much better classifier than untuned tree-based classifiers and linear SVM classifiers, while almost the same with but still better than tuned random forest classifier and AdaBoost classifier."
   ]
  },
  {
   "cell_type": "markdown",
   "metadata": {},
   "source": [
    "## Stacking\n",
    "\n",
    "Choose a set of 5 or so classifiers. Write a function that trains an ensemble using stacking"
   ]
  },
  {
   "cell_type": "code",
   "execution_count": null,
   "metadata": {},
   "outputs": [],
   "source": [
    "clean_appt_df.head()"
   ]
  },
  {
   "cell_type": "code",
   "execution_count": null,
   "metadata": {},
   "outputs": [],
   "source": [
    "def build_stack_ensemble(X, y):\n",
    "    \n",
    "    # create train/validation sets using StratifiedShuffleSplit\n",
    "    from sklearn.model_selection import StratifiedShuffleSplit\n",
    "\n",
    "    split = StratifiedShuffleSplit(n_splits=1, test_size=0.2, random_state=1234)\n",
    "    \n",
    "    for train_index, test_index in split.split(X, y):\n",
    "        train_set = X[train_index, :]\n",
    "        test_set = X[test_index, :]\n",
    "        train_y = y[train_index, :]\n",
    "        test_y = y[test_index, :]\n",
    "        \n",
    "    print(train_set[\"No-show\"].value_counts() / len(train_set))\n",
    "    print(test_set[\"No-show\"].value_counts() / len(test_set))\n",
    "    \n",
    "    train_X_clean = full_pipeline.fit_transform(train_X)\n",
    "    test_X_clean = full_pipeline.fit_transform(test_X)\n",
    "    \n",
    "    train_y = train_y.astype(int)\n",
    "    test_y = test_y.astype(int)\n",
    "    \n",
    "    # train classifiers in ensemble using train set\n",
    "    # decision tree classifiers:\n",
    "    dtc_1 = DecisionTreeClassifier(max_depth = 10)\n",
    "    dtc_1.fit(train_X_clean, train_y)\n",
    "    \n",
    "    dtc_2 = DecisionTreeClassifier(max_depth = 30)\n",
    "    dtc_2.fit(train_X_clean, train_y)\n",
    "    \n",
    "    # random forest classifiers:\n",
    "    rfc_1 = RandomForestClassifier(n_estimators = 100, max_depth = 10, max_features = 6, \n",
    "                                   min_samples_split = 1, min_samples_leaf = 1, criterion = \"entropy\", verbose = 1)\n",
    "    rfc_1.fit(train_X_clean, train_y)\n",
    "    \n",
    "    rfc_2 = RandomForestClassifier(n_estimators = 100, max_depth = 30, max_features = 3, \n",
    "                                   min_samples_split = 1, min_samples_leaf = 1, criterion = \"gini\", verbose = 1)\n",
    "    rfc_2.fit(train_X_clean, train_y)\n",
    "    \n",
    "    # linear SVM classifiers:\n",
    "    lin_svm = SVC(kernel = \"linear\", C = 10, verbose = 1)\n",
    "    lin_svm.fit(train_X_clean, train_y)\n",
    "    \n",
    "    lin_svm_rbf = SVC(kernel = \"rbf\", C = 10, verbose = 1)\n",
    "    lin_svm_rbf.fit(train_X_clean, train_y)\n",
    "                      \n",
    "    # create new feature matrix for validation set by getting predictions from the ensemble classifiers\n",
    "\n",
    "    dtc_1_prediction = dtc_1.predict(train_X_clean)\n",
    "    print(dtc_1_prediction)\n",
    "    print(type(dtc_1_prediction))\n",
    "    \n",
    "    # return all trained classifiers\n",
    "    return None"
   ]
  },
  {
   "cell_type": "code",
   "execution_count": null,
   "metadata": {},
   "outputs": [],
   "source": [
    "build_stack_ensemble_(X, y)"
   ]
  },
  {
   "cell_type": "code",
   "execution_count": null,
   "metadata": {},
   "outputs": [],
   "source": [
    "def build_stack_ensemble_(X, y):\n",
    "    \n",
    "    # create train/validation sets using StratifiedShuffleSplit\n",
    "    from sklearn.model_selection import StratifiedShuffleSplit\n",
    "\n",
    "    split = StratifiedShuffleSplit(n_splits=1, test_size=0.2, random_state=1234)\n",
    "    \n",
    "    for train_index, test_index in split.split(X, y):\n",
    "        train_set = X[train_index]\n",
    "        test_set = X[test_index]\n",
    "        train_y = y[train_index]\n",
    "        test_y = y[test_index]\n",
    "    \n",
    "    train_X = pd.DataFrame(train_set, columns = ['Gender', 'Age', 'Scholarship', 'Hipertension', 'Diabetes', 'Alcoholism', 'Handcap', 'SMS_received', 'Seconds'])\n",
    "    test_X = pd.DataFrame(test_set, columns = ['Gender', 'Age', 'Scholarship', 'Hipertension', 'Diabetes', 'Alcoholism', 'Handcap', 'SMS_received', 'Seconds'])\n",
    "    \n",
    "    train_X_clean = full_pipeline.fit_transform(pd.DataFrame(train_X))\n",
    "    test_X_clean = full_pipeline.fit_transform(pd.DataFrame(test_X))\n",
    "    \n",
    "    dtc_2_prediction = dtc_2.predict(train_X_clean)\n",
    "    rfc_1_prediction = rfc_1.predict(train_X_clean)\n",
    "    rfc_2_prediction = rfc_2.predict(train_X_clean)\n",
    "    lin_svm_prediction = lin_svm.predict(train_X_clean)\n",
    "    lin_svm_rbf_prediction = lin_svm_rbf.predict(train_X_clean)\n",
    "    feature_matrix = np.concat([dtc_1_prediction, dtc_2_prediction, rfc_1_prediction, rfc_2_prediction, lin_svm_prediction, lin_svm_rbf_prediction])\n",
    "    \n",
    "    # train logistic regression classifier on new feature matrix\n",
    "    from sklearn.linear_model import LogisticRegression\n",
    "    from sklearn.metrics import roc_auc_score\n",
    "    \n",
    "    logreg = LogisticRegression()\n",
    "    logreg.fit(feature_matrix, train_y)\n",
    "    \n",
    "    scores_logreg = cross_val_score(logreg, train_X_clean, train_y, cv = 10, scoring = 'roc_auc')\n",
    "    print(\"Mean of xgBoost Scores:\", np.mean(scores_logreg))\n",
    "\n",
    "    predict_y = logreg.predict(test_X_clean)\n",
    "    print(\"Stacking Prediction Score:\", roc_auc_score(test_y, predict_y))\n",
    "    \n",
    "    return None"
   ]
  },
  {
   "cell_type": "markdown",
   "metadata": {},
   "source": [
    "Use 10-fold cross validation to measure performance of your stacked classifier. See Part II solution to see how to roll your own sklearn classifier along with http://scikit-learn.org/stable/developers/contributing.html#rolling-your-own-estimator"
   ]
  },
  {
   "cell_type": "markdown",
   "metadata": {},
   "source": [
    "#### Measure performance of my stacked classifier using 10 fold CV"
   ]
  },
  {
   "cell_type": "code",
   "execution_count": null,
   "metadata": {},
   "outputs": [],
   "source": [
    "class StackingEnsembleClassifier(BaseEstimator, ClassifierMixin):\n",
    "    def __init__(self, lam=1.0, n_iter=1000, eta=.4, tol=1e-10, verbose=0):\n",
    "        self.lam = lam\n",
    "        self.n_iter = n_iter\n",
    "        self.eta = eta\n",
    "        self.tol = tol\n",
    "        self.verbose = verbose\n",
    "        \n",
    "    def fit(self, X, y):\n",
    "        X, y = check_X_y(X, y)\n",
    "        self.w_, self.b_ = fit_svm(X, y, lam=self.lam, n_iter=self.n_iter,\n",
    "                                   eta = self.eta, tol=self.tol, verbose=self.verbose)\n",
    "        return self\n",
    "    \n",
    "    def decision_function(self, X):\n",
    "        check_is_fitted(self, ['w_', 'b_'])\n",
    "        X = check_array(X)\n",
    "        return _get_signed_distances(X, self.w_, self.b_)\n",
    "    \n",
    "    def predict(self, X):\n",
    "        f = self.decision_function(X)\n",
    "        return np.sign(f)"
   ]
  },
  {
   "cell_type": "code",
   "execution_count": null,
   "metadata": {},
   "outputs": [],
   "source": [
    "from sklearn.utils.estimator_checks import check_estimator\n",
    "from sklearn.svm import LinearSVC\n",
    "\n",
    "check_estimator(LinearSVC)  # passes"
   ]
  },
  {
   "cell_type": "code",
   "execution_count": null,
   "metadata": {},
   "outputs": [],
   "source": [
    "sec = tackingEnsembleClassifier()"
   ]
  },
  {
   "cell_type": "code",
   "execution_count": null,
   "metadata": {},
   "outputs": [],
   "source": [
    "scores_stacking = cross_val_score(sec, train_X_clean, train_y, cv = 10, scoring = 'roc_auc')\n",
    "print(\"Mean of Stacking Ensemble Scores:\", np.mean(scores_stacking))"
   ]
  },
  {
   "cell_type": "markdown",
   "metadata": {},
   "source": [
    "## Final Result\n",
    "\n",
    "Choose a single model based on all previous project steps. Train this model on the complete training dataset and measure it's performance on the held out test set.\n",
    "\n",
    "Compare to the 10-fold CV estimate you got previously."
   ]
  },
  {
   "cell_type": "markdown",
   "metadata": {},
   "source": [
    "#### Train a model on the complete training dataset"
   ]
  },
  {
   "cell_type": "code",
   "execution_count": null,
   "metadata": {},
   "outputs": [],
   "source": [
    "xgbc_final = GradientBoostingClassifier()\n",
    "xgbc_final.fit(train_X_clean, train_y)"
   ]
  },
  {
   "cell_type": "markdown",
   "metadata": {},
   "source": [
    "#### Measure the model's performance on the held out test set"
   ]
  },
  {
   "cell_type": "code",
   "execution_count": null,
   "metadata": {},
   "outputs": [],
   "source": [
    "final_predict_y = xgbc_final.predict(test_X_clean)"
   ]
  },
  {
   "cell_type": "markdown",
   "metadata": {},
   "source": [
    "#### Compare to the 10-fold CV estimate you got previously"
   ]
  },
  {
   "cell_type": "code",
   "execution_count": null,
   "metadata": {},
   "outputs": [],
   "source": [
    "score_final = metrics.roc_auc_score(test_y, final_predict_y)\n",
    "print(\"Final Prediction Scores:\", score_final)"
   ]
  },
  {
   "cell_type": "markdown",
   "metadata": {},
   "source": [
    "### My thougths:\n",
    "1. Based on all previous project steps, I choose xgBoost model to be the final model because xgBoost classifier performs better than tree-based models in binary classification problem and has a higher roc_auc score than linear SVM models.\n",
    "2. According to the final result of predicting correctly 71.22% of the outcomes and a 60.35% of roc_auc score, I believe that xgBoost classifier is a better classifier than both tree-based classifiers and linear SVM classifiers in this classification problem."
   ]
  }
 ],
 "metadata": {
  "kernelspec": {
   "display_name": "Python 3",
   "language": "python",
   "name": "python3"
  },
  "language_info": {
   "codemirror_mode": {
    "name": "ipython",
    "version": 3
   },
   "file_extension": ".py",
   "mimetype": "text/x-python",
   "name": "python",
   "nbconvert_exporter": "python",
   "pygments_lexer": "ipython3",
   "version": "3.6.5"
  }
 },
 "nbformat": 4,
 "nbformat_minor": 2
}
